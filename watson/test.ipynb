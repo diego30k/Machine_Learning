{
 "cells": [
  {
   "cell_type": "code",
   "execution_count": 1,
   "metadata": {},
   "outputs": [],
   "source": [
    "from ibm_watson import AssistantV2\n",
    "from ibm_cloud_sdk_core.authenticators import IAMAuthenticator\n",
    "import json"
   ]
  },
  {
   "cell_type": "code",
   "execution_count": 2,
   "metadata": {},
   "outputs": [],
   "source": [
    "authenticator = IAMAuthenticator('qKTxZfdEDYO3HLcTmsAvzQgNthvF2T1T3RBbe0_2m3js')\n",
    "assistant = AssistantV2(\n",
    "    version='2020-04-01',\n",
    "    authenticator=authenticator\n",
    ")\n",
    "\n",
    "assistant.set_service_url('https://api.eu-gb.assistant.watson.cloud.ibm.com/instances/62281458-78dc-4956-8c27-589b3508a8c4')\n",
    "\n",
    "assistant.set_disable_ssl_verification(True)"
   ]
  },
  {
   "cell_type": "code",
   "execution_count": 6,
   "metadata": {
    "tags": []
   },
   "outputs": [
    {
     "name": "stderr",
     "output_type": "stream",
     "text": [
      "ERROR:root:URL sessionid parameter '950210071' is not a valid GUID.\n",
      "Traceback (most recent call last):\n",
      "  File \"/home/diego/anaconda3/lib/python3.7/site-packages/ibm_cloud_sdk_core/base_service.py\", line 225, in send\n",
      "    response.status_code, http_response=response)\n",
      "ibm_cloud_sdk_core.api_exception.ApiException: Error: URL sessionid parameter '950210071' is not a valid GUID., Code: 400 , X-global-transaction-id: 73074da51d4cfb98d83ca26ee6fe4535\n",
      "Method failed with status code 400: URL sessionid parameter '950210071' is not a valid GUID.\n"
     ]
    }
   ],
   "source": [
    "from ibm_watson import ApiException\n",
    "try:\n",
    "    \n",
    "    #response = assistant.create_session(\n",
    "    #    assistant_id='b56fd503-f8be-42b2-846c-ed01ebc37b3f'\n",
    "    #).get_result()\n",
    "\n",
    "    response = assistant.message(\n",
    "    assistant_id='b56fd503-f8be-42b2-846c-ed01ebc37b3f',\n",
    "    session_id='950210071',\n",
    "    input={\n",
    "        'message_type': 'text',\n",
    "        'text': 'Hola'\n",
    "    }\n",
    "    ).get_result()\n",
    "\n",
    "\n",
    "    print(json.dumps(response, indent=2))\n",
    "except ApiException as ex:\n",
    "    print(\"Method failed with status code \" + str(ex.code) + \": \" + ex.message)"
   ]
  },
  {
   "cell_type": "code",
   "execution_count": 22,
   "metadata": {},
   "outputs": [
    {
     "name": "stderr",
     "output_type": "stream",
     "text": [
      "/home/diego/anaconda3/lib/python3.7/site-packages/urllib3/connectionpool.py:1004: InsecureRequestWarning: Unverified HTTPS request is being made to host 'api.eu-gb.assistant.watson.cloud.ibm.com'. Adding certificate verification is strongly advised. See: https://urllib3.readthedocs.io/en/latest/advanced-usage.html#ssl-warnings\n",
      "  InsecureRequestWarning,\n"
     ]
    }
   ],
   "source": [
    "response = assistant.create_session(\n",
    "    assistant_id='b56fd503-f8be-42b2-846c-ed01ebc37b3f'\n",
    ").get_result()"
   ]
  },
  {
   "cell_type": "code",
   "execution_count": 23,
   "metadata": {
    "tags": []
   },
   "outputs": [
    {
     "data": {
      "text/plain": [
       "{'session_id': '19c649c8-357a-4cbf-aac5-04c3612fd4ef'}"
      ]
     },
     "execution_count": 23,
     "metadata": {},
     "output_type": "execute_result"
    }
   ],
   "source": [
    "response"
   ]
  },
  {
   "cell_type": "code",
   "execution_count": 3,
   "metadata": {
    "tags": []
   },
   "outputs": [
    {
     "name": "stdout",
     "output_type": "stream",
     "text": [
      "<mysql.connector.connection_cext.CMySQLConnection object at 0x7fbd8ca0d2d0>\n"
     ]
    }
   ],
   "source": [
    "import mysql.connector\n",
    "\n",
    "mydb = mysql.connector.connect(\n",
    "  host=\"localhost\",\n",
    "  user=\"root\",\n",
    "  password=\"mysqlubuntu\",\n",
    "  database=\"CHATBOT_CUENTA_NEGOCIO\"\n",
    ")\n",
    "\n",
    "print(mydb) "
   ]
  },
  {
   "cell_type": "code",
   "execution_count": 17,
   "metadata": {
    "tags": []
   },
   "outputs": [
    {
     "name": "stdout",
     "output_type": "stream",
     "text": [
      "abcdefg\n"
     ]
    }
   ],
   "source": [
    "query = (\"SELECT TELEFONO,SESION FROM WATSON_SESSION WHERE TELEFONO = %s\")\n",
    "\n",
    "cursor = mydb.cursor()\n",
    "cursor.execute(query, ('95021001',))\n",
    "\n",
    "for (TELEFONO,SESION) in cursor:\n",
    "  print(SESION)"
   ]
  },
  {
   "cell_type": "code",
   "execution_count": 8,
   "metadata": {},
   "outputs": [
    {
     "name": "stderr",
     "output_type": "stream",
     "text": [
      "/home/diego/anaconda3/lib/python3.7/site-packages/urllib3/connectionpool.py:1004: InsecureRequestWarning: Unverified HTTPS request is being made to host 'api.eu-gb.assistant.watson.cloud.ibm.com'. Adding certificate verification is strongly advised. See: https://urllib3.readthedocs.io/en/latest/advanced-usage.html#ssl-warnings\n",
      "  InsecureRequestWarning,\n"
     ]
    }
   ],
   "source": [
    "chat = assistant.message(\n",
    "            assistant_id='b56fd503-f8be-42b2-846c-ed01ebc37b3f',\n",
    "            session_id='0a73c38a-6310-4f11-81ff-85e8f0a4f540',\n",
    "            input={\n",
    "                'message_type': 'text',\n",
    "                'text': 'hola'\n",
    "            }).get_result()"
   ]
  },
  {
   "cell_type": "code",
   "execution_count": 9,
   "metadata": {},
   "outputs": [
    {
     "data": {
      "text/plain": [
       "{'output': {'intents': [{'intent': 'Saludo', 'confidence': 1}],\n",
       "  'entities': [],\n",
       "  'generic': [{'response_type': 'text',\n",
       "    'text': '¡Hola! Bienvenid@ al WhatsApp de Banca Pequeña Empresa - Interbank. \\nRecuerda que nuestro horario de atención es de Lunes a Viernes de 9am a 5pm excepto feriados. \\nSi ante la situación actual necesitas ayuda con tus préstamos puedes ingresar a:\\n- interbank.pe/ayudamos-a-tu-empresa/prestamos , para solicitar facilidades de pago. \\n- www.interbank.pe/reactivaperu , para información con respecto al programa Reactiva y conocer el status de tu solicitud.\\n- interbank.pe/cci , Consultar CCI o Código Interbancario.\\n\\nIndícame tu número de RUC, por favor.'}]}}"
      ]
     },
     "execution_count": 9,
     "metadata": {},
     "output_type": "execute_result"
    }
   ],
   "source": [
    "chat"
   ]
  },
  {
   "cell_type": "code",
   "execution_count": 10,
   "metadata": {},
   "outputs": [
    {
     "data": {
      "text/plain": [
       "[{'intent': 'Saludo', 'confidence': 1}]"
      ]
     },
     "execution_count": 10,
     "metadata": {},
     "output_type": "execute_result"
    }
   ],
   "source": [
    "chat['output']['intents']"
   ]
  },
  {
   "cell_type": "code",
   "execution_count": 11,
   "metadata": {},
   "outputs": [
    {
     "data": {
      "text/plain": [
       "[]"
      ]
     },
     "execution_count": 11,
     "metadata": {},
     "output_type": "execute_result"
    }
   ],
   "source": [
    "chat['output']['entities']"
   ]
  },
  {
   "cell_type": "code",
   "execution_count": 12,
   "metadata": {},
   "outputs": [
    {
     "data": {
      "text/plain": [
       "'¡Hola! Bienvenid@ al WhatsApp de Banca Pequeña Empresa - Interbank. \\nRecuerda que nuestro horario de atención es de Lunes a Viernes de 9am a 5pm excepto feriados. \\nSi ante la situación actual necesitas ayuda con tus préstamos puedes ingresar a:\\n- interbank.pe/ayudamos-a-tu-empresa/prestamos , para solicitar facilidades de pago. \\n- www.interbank.pe/reactivaperu , para información con respecto al programa Reactiva y conocer el status de tu solicitud.\\n- interbank.pe/cci , Consultar CCI o Código Interbancario.\\n\\nIndícame tu número de RUC, por favor.'"
      ]
     },
     "execution_count": 12,
     "metadata": {},
     "output_type": "execute_result"
    }
   ],
   "source": [
    "chat['output']['generic'][0]['text']"
   ]
  },
  {
   "cell_type": "code",
   "execution_count": 20,
   "metadata": {},
   "outputs": [],
   "source": [
    "from datetime import datetime\n",
    "today = datetime.now()"
   ]
  },
  {
   "cell_type": "code",
   "execution_count": 21,
   "metadata": {},
   "outputs": [
    {
     "data": {
      "text/plain": [
       "'2020-09-14 08:43:45'"
      ]
     },
     "execution_count": 21,
     "metadata": {},
     "output_type": "execute_result"
    }
   ],
   "source": [
    "today.strftime(\"%Y-%m-%d %H:%M:%S\")"
   ]
  },
  {
   "cell_type": "code",
   "execution_count": 28,
   "metadata": {},
   "outputs": [
    {
     "data": {
      "text/plain": [
       "'[{\"intent\": \"Saludo\", \"confidence\": 1}]'"
      ]
     },
     "execution_count": 28,
     "metadata": {},
     "output_type": "execute_result"
    }
   ],
   "source": [
    "json.dumps(chat['output']['intents'])"
   ]
  }
 ],
 "metadata": {
  "kernelspec": {
   "display_name": "Python 3",
   "language": "python",
   "name": "python3"
  },
  "language_info": {
   "codemirror_mode": {
    "name": "ipython",
    "version": 3
   },
   "file_extension": ".py",
   "mimetype": "text/x-python",
   "name": "python",
   "nbconvert_exporter": "python",
   "pygments_lexer": "ipython3",
   "version": "3.7.6"
  }
 },
 "nbformat": 4,
 "nbformat_minor": 2
}
