{
 "cells": [
  {
   "cell_type": "markdown",
   "metadata": {},
   "source": [
    "# Bigmart Sales III\n",
    "\n",
    "Autor: Diego López\n",
    "\n",
    "Ultima Actualización: 2016-11-27\n",
    "\n",
    "AnalyticsVhidya link: [practice-problem-big-mart-sales-iii](https://datahack.analyticsvidhya.com/contest/practice-problem-big-mart-sales-iii/)\n",
    "\n",
    "El objetivo de este concurso es predecir la demanda de un item en un outlet determinado basado en histórico de ventas y caracteristicas descriptivas del item y el outlet."
   ]
  },
  {
   "cell_type": "markdown",
   "metadata": {},
   "source": [
    "## Data\n",
    "\n",
    "Solo se cuenta con los archivos train.csv y test.csv\n",
    "\n",
    "- Item_Identifier: Unique product ID\n",
    "- Item_Weight: Weight of product\n",
    "- Item_Fat_Content: Whether the product is low fat or not\n",
    "- Item_Visibility: The % of total display area of all products in a store allocated to the particular product\n",
    "- Item_Type: The category to which the product belongs\n",
    "- Item_MRP: Maximum Retail Price (list price) of the product\n",
    "- Outlet_Identifier: Unique store ID\n",
    "- Outlet_Establishment_Year: The year in which store was established\n",
    "- Outlet_Size: The size of the store in terms of ground area covered\n",
    "- Outlet_Location_Type: The type of city in which the store is located\n",
    "- Outlet_Type: Whether the outlet is just a grocery store or some sort of supermarket\n",
    "- Item_Outlet_Sales: Sales of the product in the particulat store. This is the outcome variable to be predicted."
   ]
  },
  {
   "cell_type": "markdown",
   "metadata": {},
   "source": [
    "## Solución"
   ]
  },
  {
   "cell_type": "code",
   "execution_count": 1,
   "metadata": {
    "collapsed": true
   },
   "outputs": [],
   "source": [
    "import pandas as pd\n",
    "import numpy as np\n",
    "train = pd.read_csv(\"Train.csv\")\n",
    "test = pd.read_csv(\"Test.csv\")"
   ]
  },
  {
   "cell_type": "code",
   "execution_count": 2,
   "metadata": {
    "collapsed": false
   },
   "outputs": [
    {
     "data": {
      "text/html": [
       "<div>\n",
       "<table border=\"1\" class=\"dataframe\">\n",
       "  <thead>\n",
       "    <tr style=\"text-align: right;\">\n",
       "      <th></th>\n",
       "      <th>Item_Fat_Content</th>\n",
       "      <th>Item_Identifier</th>\n",
       "      <th>Item_MRP</th>\n",
       "      <th>Item_Outlet_Sales</th>\n",
       "      <th>Item_Type</th>\n",
       "      <th>Item_Visibility</th>\n",
       "      <th>Item_Weight</th>\n",
       "      <th>Outlet_Establishment_Year</th>\n",
       "      <th>Outlet_Identifier</th>\n",
       "      <th>Outlet_Location_Type</th>\n",
       "      <th>Outlet_Size</th>\n",
       "      <th>Outlet_Type</th>\n",
       "    </tr>\n",
       "  </thead>\n",
       "  <tbody>\n",
       "    <tr>\n",
       "      <th>0</th>\n",
       "      <td>Low Fat</td>\n",
       "      <td>FDA15</td>\n",
       "      <td>249.8092</td>\n",
       "      <td>3735.1380</td>\n",
       "      <td>Dairy</td>\n",
       "      <td>0.016047</td>\n",
       "      <td>9.30</td>\n",
       "      <td>1999</td>\n",
       "      <td>OUT049</td>\n",
       "      <td>Tier 1</td>\n",
       "      <td>Medium</td>\n",
       "      <td>Supermarket Type1</td>\n",
       "    </tr>\n",
       "    <tr>\n",
       "      <th>1</th>\n",
       "      <td>Regular</td>\n",
       "      <td>DRC01</td>\n",
       "      <td>48.2692</td>\n",
       "      <td>443.4228</td>\n",
       "      <td>Soft Drinks</td>\n",
       "      <td>0.019278</td>\n",
       "      <td>5.92</td>\n",
       "      <td>2009</td>\n",
       "      <td>OUT018</td>\n",
       "      <td>Tier 3</td>\n",
       "      <td>Medium</td>\n",
       "      <td>Supermarket Type2</td>\n",
       "    </tr>\n",
       "    <tr>\n",
       "      <th>2</th>\n",
       "      <td>Low Fat</td>\n",
       "      <td>FDN15</td>\n",
       "      <td>141.6180</td>\n",
       "      <td>2097.2700</td>\n",
       "      <td>Meat</td>\n",
       "      <td>0.016760</td>\n",
       "      <td>17.50</td>\n",
       "      <td>1999</td>\n",
       "      <td>OUT049</td>\n",
       "      <td>Tier 1</td>\n",
       "      <td>Medium</td>\n",
       "      <td>Supermarket Type1</td>\n",
       "    </tr>\n",
       "    <tr>\n",
       "      <th>3</th>\n",
       "      <td>Regular</td>\n",
       "      <td>FDX07</td>\n",
       "      <td>182.0950</td>\n",
       "      <td>732.3800</td>\n",
       "      <td>Fruits and Vegetables</td>\n",
       "      <td>0.000000</td>\n",
       "      <td>19.20</td>\n",
       "      <td>1998</td>\n",
       "      <td>OUT010</td>\n",
       "      <td>Tier 3</td>\n",
       "      <td>NaN</td>\n",
       "      <td>Grocery Store</td>\n",
       "    </tr>\n",
       "    <tr>\n",
       "      <th>4</th>\n",
       "      <td>Low Fat</td>\n",
       "      <td>NCD19</td>\n",
       "      <td>53.8614</td>\n",
       "      <td>994.7052</td>\n",
       "      <td>Household</td>\n",
       "      <td>0.000000</td>\n",
       "      <td>8.93</td>\n",
       "      <td>1987</td>\n",
       "      <td>OUT013</td>\n",
       "      <td>Tier 3</td>\n",
       "      <td>High</td>\n",
       "      <td>Supermarket Type1</td>\n",
       "    </tr>\n",
       "  </tbody>\n",
       "</table>\n",
       "</div>"
      ],
      "text/plain": [
       "  Item_Fat_Content Item_Identifier  Item_MRP  Item_Outlet_Sales  \\\n",
       "0          Low Fat           FDA15  249.8092          3735.1380   \n",
       "1          Regular           DRC01   48.2692           443.4228   \n",
       "2          Low Fat           FDN15  141.6180          2097.2700   \n",
       "3          Regular           FDX07  182.0950           732.3800   \n",
       "4          Low Fat           NCD19   53.8614           994.7052   \n",
       "\n",
       "               Item_Type  Item_Visibility  Item_Weight  \\\n",
       "0                  Dairy         0.016047         9.30   \n",
       "1            Soft Drinks         0.019278         5.92   \n",
       "2                   Meat         0.016760        17.50   \n",
       "3  Fruits and Vegetables         0.000000        19.20   \n",
       "4              Household         0.000000         8.93   \n",
       "\n",
       "   Outlet_Establishment_Year Outlet_Identifier Outlet_Location_Type  \\\n",
       "0                       1999            OUT049               Tier 1   \n",
       "1                       2009            OUT018               Tier 3   \n",
       "2                       1999            OUT049               Tier 1   \n",
       "3                       1998            OUT010               Tier 3   \n",
       "4                       1987            OUT013               Tier 3   \n",
       "\n",
       "  Outlet_Size        Outlet_Type  \n",
       "0      Medium  Supermarket Type1  \n",
       "1      Medium  Supermarket Type2  \n",
       "2      Medium  Supermarket Type1  \n",
       "3         NaN      Grocery Store  \n",
       "4        High  Supermarket Type1  "
      ]
     },
     "execution_count": 2,
     "metadata": {},
     "output_type": "execute_result"
    }
   ],
   "source": [
    "# Juntamos ambos items\n",
    "full = pd.concat([train, test], ignore_index=True)\n",
    "full.head()"
   ]
  },
  {
   "cell_type": "code",
   "execution_count": 3,
   "metadata": {
    "collapsed": false
   },
   "outputs": [
    {
     "data": {
      "text/plain": [
       "Item_Fat_Content                0\n",
       "Item_Identifier                 0\n",
       "Item_MRP                        0\n",
       "Item_Outlet_Sales            5681\n",
       "Item_Type                       0\n",
       "Item_Visibility                 0\n",
       "Item_Weight                  2439\n",
       "Outlet_Establishment_Year       0\n",
       "Outlet_Identifier               0\n",
       "Outlet_Location_Type            0\n",
       "Outlet_Size                  4016\n",
       "Outlet_Type                     0\n",
       "dtype: int64"
      ]
     },
     "execution_count": 3,
     "metadata": {},
     "output_type": "execute_result"
    }
   ],
   "source": [
    "# Analizamos los null y vemos que tenemos data vacia en item_weight y OutletSize\n",
    "full.isnull().sum()"
   ]
  },
  {
   "cell_type": "code",
   "execution_count": 6,
   "metadata": {
    "collapsed": false
   },
   "outputs": [
    {
     "data": {
      "text/plain": [
       "(array([ 4390.,  3918.,  2611.,  1650.,   939.,   447.,   105.,    65.,\n",
       "           50.,    29.]),\n",
       " array([ 0.        ,  0.03283909,  0.06567819,  0.09851728,  0.13135638,\n",
       "         0.16419547,  0.19703457,  0.22987366,  0.26271276,  0.29555185,\n",
       "         0.32839095]),\n",
       " <a list of 10 Patch objects>)"
      ]
     },
     "execution_count": 6,
     "metadata": {},
     "output_type": "execute_result"
    },
    {
     "data": {
      "image/png": "[encoded data removed]",
      "text/plain": [
       "<matplotlib.figure.Figure at 0x1f068dbd828>"
      ]
     },
     "metadata": {},
     "output_type": "display_data"
    }
   ],
   "source": [
    "# La visibilidad tiene una tendencia positiva\n",
    "import matplotlib.pyplot as plt\n",
    "%matplotlib inline\n",
    "plt.hist(full.Item_Visibility)"
   ]
  },
  {
   "cell_type": "code",
   "execution_count": 13,
   "metadata": {
    "collapsed": false
   },
   "outputs": [
    {
     "data": {
      "text/plain": [
       "(array([  879.,   686.,  2315.,  3075.,  2867.,  2120.,  1483.,   570.,\n",
       "          131.,    78.]),\n",
       " array([ 0.        ,  0.05730541,  0.11461081,  0.17191622,  0.22922162,\n",
       "         0.28652703,  0.34383243,  0.40113784,  0.45844324,  0.51574865,\n",
       "         0.57305405]),\n",
       " <a list of 10 Patch objects>)"
      ]
     },
     "execution_count": 13,
     "metadata": {},
     "output_type": "execute_result"
    },
    {
     "data": {
      "image/png": "[encoded data removed]",
      "text/plain": [
       "<matplotlib.figure.Figure at 0x1f06a6347f0>"
      ]
     },
     "metadata": {},
     "output_type": "display_data"
    }
   ],
   "source": [
    "# Podemos transformarlo a una tendencia normal\n",
    "plt.hist(np.sqrt(full.Item_Visibility))"
   ]
  },
  {
   "cell_type": "code",
   "execution_count": 22,
   "metadata": {
    "collapsed": false
   },
   "outputs": [
    {
     "data": {
      "text/plain": [
       "(array([ 1519.,   953.,  1745.,  2140.,  1322.,  1816.,  2009.,   783.,\n",
       "          966.,   951.]),\n",
       " array([  31.29   ,   54.84984,   78.40968,  101.96952,  125.52936,\n",
       "         149.0892 ,  172.64904,  196.20888,  219.76872,  243.32856,\n",
       "         266.8884 ]),\n",
       " <a list of 10 Patch objects>)"
      ]
     },
     "execution_count": 22,
     "metadata": {},
     "output_type": "execute_result"
    },
    {
     "data": {
      "image/png": "[encoded data removed]",
      "text/plain": [
       "<matplotlib.figure.Figure at 0x1f06a8495c0>"
      ]
     },
     "metadata": {},
     "output_type": "display_data"
    }
   ],
   "source": [
    "# los precios de los productos tienen una tendencia negativa\n",
    "plt.hist(full.Item_MRP)"
   ]
  },
  {
   "cell_type": "code",
   "execution_count": 23,
   "metadata": {
    "collapsed": false
   },
   "outputs": [
    {
     "data": {
      "text/plain": [
       "(array([  823.,  1039.,   574.,  1425.,  1980.,  1495.,  2095.,  2373.,\n",
       "         1064.,  1336.]),\n",
       " array([  5.59374651,   6.6680438 ,   7.74234108,   8.81663837,\n",
       "          9.89093566,  10.96523294,  12.03953023,  13.11382752,\n",
       "         14.1881248 ,  15.26242209,  16.33671938]),\n",
       " <a list of 10 Patch objects>)"
      ]
     },
     "execution_count": 23,
     "metadata": {},
     "output_type": "execute_result"
    },
    {
     "data": {
      "image/png": "[encoded data removed]",
      "text/plain": [
       "<matplotlib.figure.Figure at 0x1f06bad10f0>"
      ]
     },
     "metadata": {},
     "output_type": "display_data"
    }
   ],
   "source": [
    "# Con sqrt se mejora un poco la distribución\n",
    "plt.hist(np.sqrt(full.Item_MRP))"
   ]
  },
  {
   "cell_type": "code",
   "execution_count": 24,
   "metadata": {
    "collapsed": false
   },
   "outputs": [],
   "source": [
    "# Fix a item_fat_content\n",
    "_ = full.set_value(full.Item_Fat_Content.isin(['LF','low fat']) , 'Item_Fat_Content', 'Low Fat')\n",
    "_ = full.set_value(full.Item_Fat_Content == 'reg', 'Item_Fat_Content', 'Regular')\n",
    "\n",
    "# Al estudiar la info de los outlets concluimos que la 10 es small y las dos restantes pueden ser Small o Medium\n",
    "# Pendiente grid para determinar o utilizar modelo de clasificacion\n",
    "_ = full.set_value(full.Outlet_Identifier == 'OUT010', 'Outlet_Size', 'Small')\n",
    "_ = full.set_value(full.Outlet_Identifier == 'OUT045', 'Outlet_Size', 'Small')\n",
    "_ = full.set_value(full.Outlet_Identifier == 'OUT017', 'Outlet_Size', 'Small')\n",
    "\n",
    "# SIMPLIFICANDO VARIABLES\n",
    "_ = full.set_value(full.Item_Visibility == 0, 'Visibility_Level', 0)\n",
    "_ = full.set_value((full.Item_Visibility > 0) & (full.Item_Visibility < 0.1), 'Visibility_Level', 1)\n",
    "_ = full.set_value((full.Item_Visibility >= 0.1) & (full.Item_Visibility < 0.2), 'Visibility_Level', 2)\n",
    "_ = full.set_value((full.Item_Visibility >= 0.2), 'Visibility_Level', 3)\n",
    "\n",
    "# logaritmo al precio para mejorar distribucion\n",
    "full['Item_MRP_tr'] = np.sqrt(full.Item_MRP)\n",
    "full['Item_Visibility_tr'] = np.sqrt(full.Item_Visibility)\n",
    "\n",
    "# label encoding\n",
    "from sklearn import preprocessing \n",
    "le = preprocessing.LabelEncoder()\n",
    "full.Item_Type = le.fit_transform(full.Item_Type)\n",
    "full.Item_Fat_Content = le.fit_transform(full.Item_Fat_Content)\n",
    "full.Outlet_Identifier = le.fit_transform(full.Outlet_Identifier)\n",
    "full.Outlet_Location_Type = le.fit_transform(full.Outlet_Location_Type)\n",
    "full.Outlet_Size = le.fit_transform(full.Outlet_Size)\n",
    "full.Outlet_Type = le.fit_transform(full.Outlet_Type)\n",
    "full.Item_Identifier = le.fit_transform(full.Item_Identifier)"
   ]
  },
  {
   "cell_type": "code",
   "execution_count": 25,
   "metadata": {
    "collapsed": true
   },
   "outputs": [],
   "source": [
    "# Solo Windows - necesario para el uso xgboost\n",
    "import os\n",
    "mingw_path = 'C:\\\\Program Files\\\\mingw-w64\\\\x86_64-6.2.0-posix-seh-rt_v5-rev1\\\\mingw64\\\\bin'\n",
    "os.environ['PATH'] = mingw_path + ';' + os.environ['PATH']"
   ]
  },
  {
   "cell_type": "code",
   "execution_count": 26,
   "metadata": {
    "collapsed": true
   },
   "outputs": [],
   "source": [
    "# Funcion de tunning de modelo\n",
    "from sklearn.metrics import mean_absolute_error\n",
    "from sklearn.metrics import make_scorer\n",
    "from sklearn.model_selection import GridSearchCV\n",
    "\n",
    "def get_model(estimator, parameters, X_train, y_train, scoring):  \n",
    "    model = GridSearchCV(estimator, param_grid=parameters, scoring=scoring)\n",
    "    model.fit(X_train, y_train)\n",
    "    return model.best_estimator_"
   ]
  },
  {
   "cell_type": "code",
   "execution_count": 29,
   "metadata": {
    "collapsed": false
   },
   "outputs": [
    {
     "name": "stdout",
     "output_type": "stream",
     "text": [
      "count    60.000000\n",
      "mean      4.053997\n",
      "std       0.052083\n",
      "min       3.919333\n",
      "25%       4.014525\n",
      "50%       4.055213\n",
      "75%       4.086822\n",
      "max       4.151077\n",
      "dtype: float64\n",
      "count    60.000000\n",
      "mean      1.482791\n",
      "std       0.066857\n",
      "min       1.282615\n",
      "25%       1.438489\n",
      "50%       1.494196\n",
      "75%       1.526174\n",
      "max       1.621316\n",
      "dtype: float64\n",
      "count    60.000000\n",
      "mean      1.141895\n",
      "std       0.050557\n",
      "min       1.031014\n",
      "25%       1.115132\n",
      "50%       1.142174\n",
      "75%       1.169937\n",
      "max       1.245260\n",
      "dtype: float64\n",
      "count    60.000000\n",
      "mean      3.800679\n",
      "std       0.057399\n",
      "min       3.655968\n",
      "25%       3.765237\n",
      "50%       3.809795\n",
      "75%       3.838291\n",
      "max       3.915913\n",
      "dtype: float64\n"
     ]
    }
   ],
   "source": [
    "from sklearn.linear_model import LinearRegression\n",
    "from sklearn.ensemble import RandomForestRegressor\n",
    "from sklearn.neighbors import KNeighborsRegressor\n",
    "import xgboost as xgb\n",
    "from sklearn.cross_validation import cross_val_score\n",
    "from sklearn import metrics\n",
    "\n",
    "clf1 = LinearRegression()\n",
    "clf3 = RandomForestRegressor()\n",
    "clf4 = xgb.XGBRegressor()\n",
    "clf5 = KNeighborsRegressor(n_neighbors = 3)\n",
    "\n",
    "train_noWeight = full[~full.Item_Weight.isnull()]\n",
    "test_noWeight = full[full.Item_Weight.isnull()]\n",
    "fields_noWeight = ['Item_MRP_tr','Item_Type','Item_Visibility_tr','Item_Fat_Content']\n",
    "y = np.asarray(train_noWeight.Item_Weight)\n",
    "\n",
    "res_reglin,res_rf,res_xgb,res_kn = [],[],[],[]\n",
    "\n",
    "for i in range(10,15):\n",
    "    res_reglin = np.append(res_reglin,cross_val_score(clf1, train_noWeight[fields_noWeight], y, cv=i, scoring='neg_mean_absolute_error'))\n",
    "    res_rf = np.append(res_rf,cross_val_score(clf3, train_noWeight[fields_noWeight], y, cv=i, scoring='neg_mean_absolute_error'))\n",
    "    res_xgb = np.append(res_xgb,cross_val_score(clf4, train_noWeight[fields_noWeight], y, cv=i, scoring='neg_mean_absolute_error'))\n",
    "    res_kn = np.append(res_kn,cross_val_score(clf5, train_noWeight[fields_noWeight], y, cv=i, scoring='neg_mean_absolute_error'))\n",
    "\n",
    "print(pd.Series(-res_reglin).describe())\n",
    "print(pd.Series(-res_kn).describe())\n",
    "print(pd.Series(-res_rf).describe())\n",
    "print(pd.Series(-res_xgb).describe())\n",
    "\n",
    "# Observamos que xgb tiene el mejor resultado con solo 1.1 de error. Podemos luego optimizar el XGB"
   ]
  },
  {
   "cell_type": "code",
   "execution_count": 30,
   "metadata": {
    "collapsed": false
   },
   "outputs": [
    {
     "data": {
      "text/plain": [
       "(array([  820.,  1496.,  1445.,  1317.,  2431.,  2048.,  1351.,  1193.,\n",
       "         1094.,  1009.]),\n",
       " array([  4.555 ,   6.2345,   7.914 ,   9.5935,  11.273 ,  12.9525,\n",
       "         14.632 ,  16.3115,  17.991 ,  19.6705,  21.35  ]),\n",
       " <a list of 10 Patch objects>)"
      ]
     },
     "execution_count": 30,
     "metadata": {},
     "output_type": "execute_result"
    },
    {
     "data": {
      "image/png": "[encoded data removed]",
      "text/plain": [
       "<matplotlib.figure.Figure at 0x1f06cac7be0>"
      ]
     },
     "metadata": {},
     "output_type": "display_data"
    }
   ],
   "source": [
    "#Entrenamos y reemplazamos\n",
    "clf4.fit(train_noWeight[fields_noWeight],y)\n",
    "pred = clf4.predict(test_noWeight[fields_noWeight])\n",
    "full.set_value(full.Item_Weight.isnull(), 'Item_Weight', pred)\n",
    "\n",
    "# Verificamos la distribución de Weight y vemos que es normal así que no hacemos transformación\n",
    "plt.hist(full.Item_Weight)"
   ]
  },
  {
   "cell_type": "code",
   "execution_count": 31,
   "metadata": {
    "collapsed": false
   },
   "outputs": [
    {
     "name": "stdout",
     "output_type": "stream",
     "text": [
      "count     60.000000\n",
      "mean     916.181161\n",
      "std       22.247778\n",
      "min      868.015470\n",
      "25%      900.518930\n",
      "50%      916.502362\n",
      "75%      928.482961\n",
      "max      961.574230\n",
      "dtype: float64\n",
      "count     60.000000\n",
      "mean     916.177464\n",
      "std       22.247217\n",
      "min      868.016530\n",
      "25%      900.527210\n",
      "50%      916.496854\n",
      "75%      928.478940\n",
      "max      961.577101\n",
      "dtype: float64\n",
      "count     60.000000\n",
      "mean     756.785812\n",
      "std       19.987850\n",
      "min      716.111916\n",
      "25%      742.895354\n",
      "50%      751.820139\n",
      "75%      774.346618\n",
      "max      792.381226\n",
      "dtype: float64\n",
      "count     60.000000\n",
      "mean     754.896593\n",
      "std       19.355144\n",
      "min      716.194110\n",
      "25%      739.370542\n",
      "50%      751.445294\n",
      "75%      772.159825\n",
      "max      788.982919\n",
      "dtype: float64\n",
      "count     60.000000\n",
      "mean     879.489487\n",
      "std       26.906708\n",
      "min      802.521874\n",
      "25%      864.764960\n",
      "50%      879.125809\n",
      "75%      899.016305\n",
      "max      933.636319\n",
      "dtype: float64\n"
     ]
    }
   ],
   "source": [
    "# Probamos distintos modelos de regresion para predecir la venta\n",
    "\n",
    "from sklearn.linear_model import LinearRegression\n",
    "from sklearn.ensemble import RandomForestRegressor\n",
    "from sklearn.linear_model import Lasso\n",
    "from sklearn.neighbors import KNeighborsRegressor\n",
    "from sklearn.svm import SVR\n",
    "import xgboost as xgb\n",
    "from sklearn.cross_validation import cross_val_score\n",
    "from sklearn import metrics\n",
    "\n",
    "clf1 = LinearRegression()\n",
    "clf2 = Lasso(alpha = 0.01)\n",
    "clf3 = RandomForestRegressor(max_depth=6,max_features=8, n_estimators=40)\n",
    "clf4 = xgb.XGBRegressor(learning_rate=0.043, max_depth=4, reg_alpha=0.55,reg_lambda=3.0)\n",
    "clf5 = KNeighborsRegressor(n_neighbors = 3)\n",
    "#clf6 = SVR()\n",
    "\n",
    "n_train = full[~full.Item_Outlet_Sales.isnull()]\n",
    "n_test = full[full.Item_Outlet_Sales.isnull()]\n",
    "\n",
    "fields = ['Item_Fat_Content','Item_MRP_tr','Item_Type','Item_Visibility_tr','Visibility_Level','Item_Weight','Outlet_Establishment_Year','Outlet_Identifier','Outlet_Location_Type','Outlet_Size','Outlet_Type'];\n",
    "y = np.asarray(n_train.Item_Outlet_Sales)\n",
    "res_reglin,res_rf,res_xgb, res_lasso,res_kn = [],[],[],[],[]\n",
    "\n",
    "for i in range(10,15):\n",
    "    res_reglin = np.append(res_reglin,cross_val_score(clf1, n_train[fields], y, cv=i, scoring='neg_mean_absolute_error'))\n",
    "    res_lasso = np.append(res_lasso,cross_val_score(clf2, n_train[fields], y, cv=i, scoring='neg_mean_absolute_error'))\n",
    "    res_rf = np.append(res_rf,cross_val_score(clf3, n_train[fields], y, cv=i, scoring='neg_mean_absolute_error'))\n",
    "    res_xgb = np.append(res_xgb,cross_val_score(clf4, n_train[fields], y, cv=i, scoring='neg_mean_absolute_error'))\n",
    "    res_kn = np.append(res_kn,cross_val_score(clf5, n_train[fields], y, cv=i, scoring='neg_mean_absolute_error'))\n",
    "    #res_svc = np.append(res_kn,cross_val_score(clf6, n_train[fields], y, cv=i, scoring='neg_mean_absolute_error'))\n",
    "\n",
    "print(pd.Series(-res_reglin).describe())\n",
    "print(pd.Series(-res_lasso).describe())\n",
    "print(pd.Series(-res_rf).describe())\n",
    "print(pd.Series(-res_xgb).describe())\n",
    "print(pd.Series(-res_kn).describe())\n",
    "#print(pd.Series(-res_svc).describe())\n",
    "\n",
    "# XGB y Random Forest se obtienen mejores resultados pero queda pendiente actualizar la optimización"
   ]
  },
  {
   "cell_type": "code",
   "execution_count": 32,
   "metadata": {
    "collapsed": true
   },
   "outputs": [],
   "source": [
    "# Entrenamos el Random Forest, el XGBoost y un Voting CLassifier de ambos\n",
    "clf3.fit(n_train[fields], y)\n",
    "clf4.fit(n_train[fields], y)\n",
    "\n",
    "from sklearn.ensemble import VotingClassifier\n",
    "clf_vc = VotingClassifier(estimators=[('xgb', clf4), ('rf', clf3)], \n",
    "                          voting='hard', weights=[1,1])\n",
    "clf_vc = clf_vc.fit(n_train[fields], y)"
   ]
  },
  {
   "cell_type": "code",
   "execution_count": 33,
   "metadata": {
    "collapsed": true
   },
   "outputs": [],
   "source": [
    "# Predecimos\n",
    "\n",
    "pred = clf4.predict(n_test[fields])\n",
    "\n",
    "submission = pd.DataFrame({\n",
    "        \"Item_Identifier\": test.Item_Identifier,\n",
    "        \"Outlet_Identifier\": test.Outlet_Identifier,\n",
    "        \"Item_Outlet_Sales\": pred\n",
    "    }, columns = [\"Item_Identifier\",\"Outlet_Identifier\",\"Item_Outlet_Sales\"])\n",
    "submission.to_csv('prediction_solutionv5.csv', index=False)"
   ]
  }
 ],
 "metadata": {
  "anaconda-cloud": {},
  "kernelspec": {
   "display_name": "Python [conda root]",
   "language": "python",
   "name": "conda-root-py"
  },
  "language_info": {
   "codemirror_mode": {
    "name": "ipython",
    "version": 3
   },
   "file_extension": ".py",
   "mimetype": "text/x-python",
   "name": "python",
   "nbconvert_exporter": "python",
   "pygments_lexer": "ipython3",
   "version": "3.5.2"
  }
 },
 "nbformat": 4,
 "nbformat_minor": 1
}
