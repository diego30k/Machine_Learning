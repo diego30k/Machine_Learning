{
 "cells": [
  {
   "cell_type": "code",
   "execution_count": 10,
   "metadata": {},
   "outputs": [
    {
     "data": {
      "text/plain": [
       "[0.4745706786885481,\n",
       " 0.6574725026572553,\n",
       " 0.6664104711248381,\n",
       " 0.14260035292536777,\n",
       " 0.01086044309006795,\n",
       " 0.3747544920633644,\n",
       " 0.2740481394783314,\n",
       " 0.8103480522350838,\n",
       " 0.6905926530386846,\n",
       " 0.6014570387277332,\n",
       " 0.558190047753348,\n",
       " 0.661321085872001,\n",
       " 0.145302794710103,\n",
       " 0.4400547919247698,\n",
       " 0.16226732238888864,\n",
       " 0.9059729815293226,\n",
       " 0.05882432741086607,\n",
       " 0.8188201278420804,\n",
       " 0.07460963363587747,\n",
       " 0.6869455040935417]"
      ]
     },
     "execution_count": 10,
     "metadata": {},
     "output_type": "execute_result"
    }
   ],
   "source": [
    "## Generar lista de numeros random\n",
    "import random\n",
    "\n",
    "random.seed(12)\n",
    "grade = [random.random() for i in range(0,20)]\n",
    "grade"
   ]
  },
  {
   "cell_type": "code",
   "execution_count": 13,
   "metadata": {},
   "outputs": [
    {
     "name": "stdout",
     "output_type": "stream",
     "text": [
      "(('John', 'Jenny'), ('Charles', 'Christy'), ('Mike', 'Monica'))\n"
     ]
    }
   ],
   "source": [
    "## Hacer un tuple de dos array\n",
    "a = [\"John\", \"Charles\", \"Mike\"]\n",
    "b = [\"Jenny\", \"Christy\", \"Monica\", \"Vicky\"]\n",
    "\n",
    "x = zip(a, b)\n",
    "print(tuple(x))"
   ]
  },
  {
   "cell_type": "code",
   "execution_count": 18,
   "metadata": {},
   "outputs": [
    {
     "name": "stdout",
     "output_type": "stream",
     "text": [
      "1.0\n"
     ]
    }
   ],
   "source": [
    "#Entropy\n",
    "import scipy.stats\n",
    "print(scipy.stats.entropy([1,1],base=2) )"
   ]
  },
  {
   "cell_type": "code",
   "execution_count": 17,
   "metadata": {},
   "outputs": [
    {
     "data": {
      "text/plain": [
       "0.31120000000000003"
      ]
     },
     "execution_count": 17,
     "metadata": {},
     "output_type": "execute_result"
    }
   ],
   "source": [
    "1 - (0.75*0.9184)"
   ]
  }
 ],
 "metadata": {
  "kernelspec": {
   "display_name": "Python 3",
   "language": "python",
   "name": "python3"
  },
  "language_info": {
   "codemirror_mode": {
    "name": "ipython",
    "version": 3
   },
   "file_extension": ".py",
   "mimetype": "text/x-python",
   "name": "python",
   "nbconvert_exporter": "python",
   "pygments_lexer": "ipython3",
   "version": "3.7.6"
  }
 },
 "nbformat": 4,
 "nbformat_minor": 4
}
