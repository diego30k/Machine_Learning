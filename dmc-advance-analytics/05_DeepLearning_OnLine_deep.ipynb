{
 "cells": [
  {
   "cell_type": "markdown",
   "metadata": {},
   "source": [
    "# Data mining consulting"
   ]
  },
  {
   "cell_type": "markdown",
   "metadata": {},
   "source": [
    "## Profesor: Daniel Alfredo Chávez Gallo\n",
    "-------------------------------------------------------------------------------------------------------------------------"
   ]
  },
  {
   "cell_type": "markdown",
   "metadata": {
    "colab_type": "text",
    "id": "8j3n2Hb7yBRD"
   },
   "source": [
    "### **PARTE I - ENTENDIMIENTO Y TRATAMIENTO DE DATOS **"
   ]
  },
  {
   "cell_type": "code",
   "execution_count": 4,
   "metadata": {
    "colab": {},
    "colab_type": "code",
    "executionInfo": {
     "elapsed": 832,
     "status": "ok",
     "timestamp": 1597970895054,
     "user": {
      "displayName": "ANDRE OMAR CHAVEZ PANDURO",
      "photoUrl": "https://lh3.googleusercontent.com/a-/AOh14GhhoQ1kbFXrI1LHS5aCbnzbQoTSVMlrpsL1-iED=s64",
      "userId": "14331399592622880507"
     },
     "user_tz": 300
    },
    "id": "vL0a89MRt2pk"
   },
   "outputs": [],
   "source": [
    "import pandas as pd\n",
    "# Importar el data set\n",
    "df = pd.read_csv('data/Churn_Modelling.csv')"
   ]
  },
  {
   "cell_type": "code",
   "execution_count": 5,
   "metadata": {
    "colab": {
     "base_uri": "https://localhost:8080/",
     "height": 35
    },
    "colab_type": "code",
    "executionInfo": {
     "elapsed": 606,
     "status": "ok",
     "timestamp": 1597970901459,
     "user": {
      "displayName": "ANDRE OMAR CHAVEZ PANDURO",
      "photoUrl": "https://lh3.googleusercontent.com/a-/AOh14GhhoQ1kbFXrI1LHS5aCbnzbQoTSVMlrpsL1-iED=s64",
      "userId": "14331399592622880507"
     },
     "user_tz": 300
    },
    "id": "UT8iFWgltkyK",
    "outputId": "be115145-4a70-44f3-f558-aba0000c753f"
   },
   "outputs": [
    {
     "data": {
      "text/plain": [
       "(10000, 14)"
      ]
     },
     "execution_count": 5,
     "metadata": {},
     "output_type": "execute_result"
    }
   ],
   "source": [
    "# Revisamos la dimension del dataset!\n",
    "df.shape"
   ]
  },
  {
   "cell_type": "code",
   "execution_count": 6,
   "metadata": {
    "colab": {
     "base_uri": "https://localhost:8080/",
     "height": 368
    },
    "colab_type": "code",
    "executionInfo": {
     "elapsed": 582,
     "status": "ok",
     "timestamp": 1597970985112,
     "user": {
      "displayName": "ANDRE OMAR CHAVEZ PANDURO",
      "photoUrl": "https://lh3.googleusercontent.com/a-/AOh14GhhoQ1kbFXrI1LHS5aCbnzbQoTSVMlrpsL1-iED=s64",
      "userId": "14331399592622880507"
     },
     "user_tz": 300
    },
    "id": "5Zn6ruPsuowH",
    "outputId": "8cc1d218-0704-476a-b7f0-ff8c00c56321",
    "scrolled": true
   },
   "outputs": [
    {
     "data": {
      "text/html": [
       "<div>\n",
       "<style scoped>\n",
       "    .dataframe tbody tr th:only-of-type {\n",
       "        vertical-align: middle;\n",
       "    }\n",
       "\n",
       "    .dataframe tbody tr th {\n",
       "        vertical-align: top;\n",
       "    }\n",
       "\n",
       "    .dataframe thead th {\n",
       "        text-align: right;\n",
       "    }\n",
       "</style>\n",
       "<table border=\"1\" class=\"dataframe\">\n",
       "  <thead>\n",
       "    <tr style=\"text-align: right;\">\n",
       "      <th></th>\n",
       "      <th>RowNumber</th>\n",
       "      <th>CustomerId</th>\n",
       "      <th>Surname</th>\n",
       "      <th>CreditScore</th>\n",
       "      <th>Geography</th>\n",
       "      <th>Gender</th>\n",
       "      <th>Age</th>\n",
       "      <th>Tenure</th>\n",
       "      <th>Balance</th>\n",
       "      <th>NumOfProducts</th>\n",
       "      <th>HasCrCard</th>\n",
       "      <th>IsActiveMember</th>\n",
       "      <th>EstimatedSalary</th>\n",
       "      <th>Exited</th>\n",
       "    </tr>\n",
       "  </thead>\n",
       "  <tbody>\n",
       "    <tr>\n",
       "      <th>0</th>\n",
       "      <td>1</td>\n",
       "      <td>15634602</td>\n",
       "      <td>Hargrave</td>\n",
       "      <td>619</td>\n",
       "      <td>France</td>\n",
       "      <td>Female</td>\n",
       "      <td>42</td>\n",
       "      <td>2</td>\n",
       "      <td>0.00</td>\n",
       "      <td>1</td>\n",
       "      <td>1</td>\n",
       "      <td>1</td>\n",
       "      <td>101348.88</td>\n",
       "      <td>1</td>\n",
       "    </tr>\n",
       "    <tr>\n",
       "      <th>1</th>\n",
       "      <td>2</td>\n",
       "      <td>15647311</td>\n",
       "      <td>Hill</td>\n",
       "      <td>608</td>\n",
       "      <td>Spain</td>\n",
       "      <td>Female</td>\n",
       "      <td>41</td>\n",
       "      <td>1</td>\n",
       "      <td>83807.86</td>\n",
       "      <td>1</td>\n",
       "      <td>0</td>\n",
       "      <td>1</td>\n",
       "      <td>112542.58</td>\n",
       "      <td>0</td>\n",
       "    </tr>\n",
       "    <tr>\n",
       "      <th>2</th>\n",
       "      <td>3</td>\n",
       "      <td>15619304</td>\n",
       "      <td>Onio</td>\n",
       "      <td>502</td>\n",
       "      <td>France</td>\n",
       "      <td>Female</td>\n",
       "      <td>42</td>\n",
       "      <td>8</td>\n",
       "      <td>159660.80</td>\n",
       "      <td>3</td>\n",
       "      <td>1</td>\n",
       "      <td>0</td>\n",
       "      <td>113931.57</td>\n",
       "      <td>1</td>\n",
       "    </tr>\n",
       "    <tr>\n",
       "      <th>3</th>\n",
       "      <td>4</td>\n",
       "      <td>15701354</td>\n",
       "      <td>Boni</td>\n",
       "      <td>699</td>\n",
       "      <td>France</td>\n",
       "      <td>Female</td>\n",
       "      <td>39</td>\n",
       "      <td>1</td>\n",
       "      <td>0.00</td>\n",
       "      <td>2</td>\n",
       "      <td>0</td>\n",
       "      <td>0</td>\n",
       "      <td>93826.63</td>\n",
       "      <td>0</td>\n",
       "    </tr>\n",
       "    <tr>\n",
       "      <th>4</th>\n",
       "      <td>5</td>\n",
       "      <td>15737888</td>\n",
       "      <td>Mitchell</td>\n",
       "      <td>850</td>\n",
       "      <td>Spain</td>\n",
       "      <td>Female</td>\n",
       "      <td>43</td>\n",
       "      <td>2</td>\n",
       "      <td>125510.82</td>\n",
       "      <td>1</td>\n",
       "      <td>1</td>\n",
       "      <td>1</td>\n",
       "      <td>79084.10</td>\n",
       "      <td>0</td>\n",
       "    </tr>\n",
       "    <tr>\n",
       "      <th>5</th>\n",
       "      <td>6</td>\n",
       "      <td>15574012</td>\n",
       "      <td>Chu</td>\n",
       "      <td>645</td>\n",
       "      <td>Spain</td>\n",
       "      <td>Male</td>\n",
       "      <td>44</td>\n",
       "      <td>8</td>\n",
       "      <td>113755.78</td>\n",
       "      <td>2</td>\n",
       "      <td>1</td>\n",
       "      <td>0</td>\n",
       "      <td>149756.71</td>\n",
       "      <td>1</td>\n",
       "    </tr>\n",
       "    <tr>\n",
       "      <th>6</th>\n",
       "      <td>7</td>\n",
       "      <td>15592531</td>\n",
       "      <td>Bartlett</td>\n",
       "      <td>822</td>\n",
       "      <td>France</td>\n",
       "      <td>Male</td>\n",
       "      <td>50</td>\n",
       "      <td>7</td>\n",
       "      <td>0.00</td>\n",
       "      <td>2</td>\n",
       "      <td>1</td>\n",
       "      <td>1</td>\n",
       "      <td>10062.80</td>\n",
       "      <td>0</td>\n",
       "    </tr>\n",
       "    <tr>\n",
       "      <th>7</th>\n",
       "      <td>8</td>\n",
       "      <td>15656148</td>\n",
       "      <td>Obinna</td>\n",
       "      <td>376</td>\n",
       "      <td>Germany</td>\n",
       "      <td>Female</td>\n",
       "      <td>29</td>\n",
       "      <td>4</td>\n",
       "      <td>115046.74</td>\n",
       "      <td>4</td>\n",
       "      <td>1</td>\n",
       "      <td>0</td>\n",
       "      <td>119346.88</td>\n",
       "      <td>1</td>\n",
       "    </tr>\n",
       "    <tr>\n",
       "      <th>8</th>\n",
       "      <td>9</td>\n",
       "      <td>15792365</td>\n",
       "      <td>He</td>\n",
       "      <td>501</td>\n",
       "      <td>France</td>\n",
       "      <td>Male</td>\n",
       "      <td>44</td>\n",
       "      <td>4</td>\n",
       "      <td>142051.07</td>\n",
       "      <td>2</td>\n",
       "      <td>0</td>\n",
       "      <td>1</td>\n",
       "      <td>74940.50</td>\n",
       "      <td>0</td>\n",
       "    </tr>\n",
       "    <tr>\n",
       "      <th>9</th>\n",
       "      <td>10</td>\n",
       "      <td>15592389</td>\n",
       "      <td>H?</td>\n",
       "      <td>684</td>\n",
       "      <td>France</td>\n",
       "      <td>Male</td>\n",
       "      <td>27</td>\n",
       "      <td>2</td>\n",
       "      <td>134603.88</td>\n",
       "      <td>1</td>\n",
       "      <td>1</td>\n",
       "      <td>1</td>\n",
       "      <td>71725.73</td>\n",
       "      <td>0</td>\n",
       "    </tr>\n",
       "  </tbody>\n",
       "</table>\n",
       "</div>"
      ],
      "text/plain": [
       "   RowNumber  CustomerId   Surname  CreditScore Geography  Gender  Age  \\\n",
       "0          1    15634602  Hargrave          619    France  Female   42   \n",
       "1          2    15647311      Hill          608     Spain  Female   41   \n",
       "2          3    15619304      Onio          502    France  Female   42   \n",
       "3          4    15701354      Boni          699    France  Female   39   \n",
       "4          5    15737888  Mitchell          850     Spain  Female   43   \n",
       "5          6    15574012       Chu          645     Spain    Male   44   \n",
       "6          7    15592531  Bartlett          822    France    Male   50   \n",
       "7          8    15656148    Obinna          376   Germany  Female   29   \n",
       "8          9    15792365        He          501    France    Male   44   \n",
       "9         10    15592389        H?          684    France    Male   27   \n",
       "\n",
       "   Tenure    Balance  NumOfProducts  HasCrCard  IsActiveMember  \\\n",
       "0       2       0.00              1          1               1   \n",
       "1       1   83807.86              1          0               1   \n",
       "2       8  159660.80              3          1               0   \n",
       "3       1       0.00              2          0               0   \n",
       "4       2  125510.82              1          1               1   \n",
       "5       8  113755.78              2          1               0   \n",
       "6       7       0.00              2          1               1   \n",
       "7       4  115046.74              4          1               0   \n",
       "8       4  142051.07              2          0               1   \n",
       "9       2  134603.88              1          1               1   \n",
       "\n",
       "   EstimatedSalary  Exited  \n",
       "0        101348.88       1  \n",
       "1        112542.58       0  \n",
       "2        113931.57       1  \n",
       "3         93826.63       0  \n",
       "4         79084.10       0  \n",
       "5        149756.71       1  \n",
       "6         10062.80       0  \n",
       "7        119346.88       1  \n",
       "8         74940.50       0  \n",
       "9         71725.73       0  "
      ]
     },
     "execution_count": 6,
     "metadata": {},
     "output_type": "execute_result"
    }
   ],
   "source": [
    "# Revisamos los primeros registros del set de datos\n",
    "df.head(10)"
   ]
  },
  {
   "cell_type": "code",
   "execution_count": 7,
   "metadata": {
    "colab": {},
    "colab_type": "code",
    "executionInfo": {
     "elapsed": 5972,
     "status": "ok",
     "timestamp": 1597971096435,
     "user": {
      "displayName": "ANDRE OMAR CHAVEZ PANDURO",
      "photoUrl": "https://lh3.googleusercontent.com/a-/AOh14GhhoQ1kbFXrI1LHS5aCbnzbQoTSVMlrpsL1-iED=s64",
      "userId": "14331399592622880507"
     },
     "user_tz": 300
    },
    "id": "Y9UAis12g6Gk"
   },
   "outputs": [],
   "source": [
    "# Funciones\n",
    "def printBalanceo(data, field_grouping, data_name):\n",
    "    print(\"\\nCantidad de elementos por Clase en \\n\", data_name, \":\")\n",
    "    target_count = data[field_grouping].value_counts()\n",
    "    target_count.plot(kind='bar', title='Count (' + field_grouping + ')');\n",
    "\n",
    "    print('Clase 0:', target_count[0], \"({:.2%})\".format(round(target_count[0] / (target_count[0]+target_count[1]), 2)))\n",
    "    print('Clase 1:', target_count[1], \"({:.2%})\".format(round(target_count[1] / (target_count[0]+target_count[1]), 2)))\n",
    "    print('Total  :', data.shape[0])"
   ]
  },
  {
   "cell_type": "code",
   "execution_count": 8,
   "metadata": {},
   "outputs": [
    {
     "ename": "NameError",
     "evalue": "name 'df2' is not defined",
     "output_type": "error",
     "traceback": [
      "\u001b[0;31m---------------------------------------------------------------------------\u001b[0m",
      "\u001b[0;31mNameError\u001b[0m                                 Traceback (most recent call last)",
      "\u001b[0;32m<ipython-input-8-e0f23ec75fa6>\u001b[0m in \u001b[0;36m<module>\u001b[0;34m\u001b[0m\n\u001b[0;32m----> 1\u001b[0;31m \u001b[0mprintBalanceo\u001b[0m\u001b[0;34m(\u001b[0m\u001b[0mdf\u001b[0m\u001b[0;34m,\u001b[0m \u001b[0;34m'Exited'\u001b[0m\u001b[0;34m,\u001b[0m \u001b[0mdf2\u001b[0m\u001b[0;34m)\u001b[0m\u001b[0;34m\u001b[0m\u001b[0;34m\u001b[0m\u001b[0m\n\u001b[0m",
      "\u001b[0;31mNameError\u001b[0m: name 'df2' is not defined"
     ]
    }
   ],
   "source": [
    "printBalanceo(df, 'Exited', df)"
   ]
  },
  {
   "cell_type": "code",
   "execution_count": 9,
   "metadata": {
    "colab": {},
    "colab_type": "code",
    "executionInfo": {
     "elapsed": 537,
     "status": "ok",
     "timestamp": 1597971132188,
     "user": {
      "displayName": "ANDRE OMAR CHAVEZ PANDURO",
      "photoUrl": "https://lh3.googleusercontent.com/a-/AOh14GhhoQ1kbFXrI1LHS5aCbnzbQoTSVMlrpsL1-iED=s64",
      "userId": "14331399592622880507"
     },
     "user_tz": 300
    },
    "id": "yv1KfVctZ9qx"
   },
   "outputs": [],
   "source": [
    "# Separamos las columnas numericas y las categoricas\n",
    "ColumnsCategoricas = ['Geography','Gender','HasCrCard','IsActiveMember','Exited']\n",
    "ColumnsNumericas =   ['CreditScore','Age','Tenure','Balance','NumOfProducts','EstimatedSalary']"
   ]
  },
  {
   "cell_type": "code",
   "execution_count": 10,
   "metadata": {
    "colab": {
     "base_uri": "https://localhost:8080/",
     "height": 290
    },
    "colab_type": "code",
    "executionInfo": {
     "elapsed": 975,
     "status": "ok",
     "timestamp": 1597971145283,
     "user": {
      "displayName": "ANDRE OMAR CHAVEZ PANDURO",
      "photoUrl": "https://lh3.googleusercontent.com/a-/AOh14GhhoQ1kbFXrI1LHS5aCbnzbQoTSVMlrpsL1-iED=s64",
      "userId": "14331399592622880507"
     },
     "user_tz": 300
    },
    "id": "IdhLpwpzaWbF",
    "outputId": "faf9059e-7b49-48f6-a1f8-c21ac6f6d6df"
   },
   "outputs": [
    {
     "data": {
      "text/plain": [
       "RowNumber          0\n",
       "CustomerId         0\n",
       "Surname            0\n",
       "CreditScore        0\n",
       "Geography          0\n",
       "Gender             0\n",
       "Age                0\n",
       "Tenure             0\n",
       "Balance            0\n",
       "NumOfProducts      0\n",
       "HasCrCard          0\n",
       "IsActiveMember     0\n",
       "EstimatedSalary    0\n",
       "Exited             0\n",
       "dtype: int64"
      ]
     },
     "execution_count": 10,
     "metadata": {},
     "output_type": "execute_result"
    }
   ],
   "source": [
    "# Antes de hacer cualquier trabajo con los datos, vemos los valores nulos!\n",
    "df.isnull().sum()"
   ]
  },
  {
   "cell_type": "code",
   "execution_count": 11,
   "metadata": {
    "colab": {},
    "colab_type": "code",
    "executionInfo": {
     "elapsed": 780,
     "status": "ok",
     "timestamp": 1597971252829,
     "user": {
      "displayName": "ANDRE OMAR CHAVEZ PANDURO",
      "photoUrl": "https://lh3.googleusercontent.com/a-/AOh14GhhoQ1kbFXrI1LHS5aCbnzbQoTSVMlrpsL1-iED=s64",
      "userId": "14331399592622880507"
     },
     "user_tz": 300
    },
    "id": "SIwKPFFxaWdK"
   },
   "outputs": [],
   "source": [
    "# Creamos 1 dataset de variables categoricas!\n",
    "df_categoricas_01 = df[ColumnsCategoricas]"
   ]
  },
  {
   "cell_type": "code",
   "execution_count": 12,
   "metadata": {
    "colab": {
     "base_uri": "https://localhost:8080/",
     "height": 198
    },
    "colab_type": "code",
    "executionInfo": {
     "elapsed": 1891,
     "status": "ok",
     "timestamp": 1597971285450,
     "user": {
      "displayName": "ANDRE OMAR CHAVEZ PANDURO",
      "photoUrl": "https://lh3.googleusercontent.com/a-/AOh14GhhoQ1kbFXrI1LHS5aCbnzbQoTSVMlrpsL1-iED=s64",
      "userId": "14331399592622880507"
     },
     "user_tz": 300
    },
    "id": "aP23dZnoz3Q7",
    "outputId": "2de495e5-7403-45d3-e2e0-6097c0d21929"
   },
   "outputs": [
    {
     "data": {
      "text/html": [
       "<div>\n",
       "<style scoped>\n",
       "    .dataframe tbody tr th:only-of-type {\n",
       "        vertical-align: middle;\n",
       "    }\n",
       "\n",
       "    .dataframe tbody tr th {\n",
       "        vertical-align: top;\n",
       "    }\n",
       "\n",
       "    .dataframe thead th {\n",
       "        text-align: right;\n",
       "    }\n",
       "</style>\n",
       "<table border=\"1\" class=\"dataframe\">\n",
       "  <thead>\n",
       "    <tr style=\"text-align: right;\">\n",
       "      <th></th>\n",
       "      <th>Geography</th>\n",
       "      <th>Gender</th>\n",
       "      <th>HasCrCard</th>\n",
       "      <th>IsActiveMember</th>\n",
       "      <th>Exited</th>\n",
       "    </tr>\n",
       "  </thead>\n",
       "  <tbody>\n",
       "    <tr>\n",
       "      <th>0</th>\n",
       "      <td>France</td>\n",
       "      <td>Female</td>\n",
       "      <td>1</td>\n",
       "      <td>1</td>\n",
       "      <td>1</td>\n",
       "    </tr>\n",
       "    <tr>\n",
       "      <th>1</th>\n",
       "      <td>Spain</td>\n",
       "      <td>Female</td>\n",
       "      <td>0</td>\n",
       "      <td>1</td>\n",
       "      <td>0</td>\n",
       "    </tr>\n",
       "    <tr>\n",
       "      <th>2</th>\n",
       "      <td>France</td>\n",
       "      <td>Female</td>\n",
       "      <td>1</td>\n",
       "      <td>0</td>\n",
       "      <td>1</td>\n",
       "    </tr>\n",
       "    <tr>\n",
       "      <th>3</th>\n",
       "      <td>France</td>\n",
       "      <td>Female</td>\n",
       "      <td>0</td>\n",
       "      <td>0</td>\n",
       "      <td>0</td>\n",
       "    </tr>\n",
       "    <tr>\n",
       "      <th>4</th>\n",
       "      <td>Spain</td>\n",
       "      <td>Female</td>\n",
       "      <td>1</td>\n",
       "      <td>1</td>\n",
       "      <td>0</td>\n",
       "    </tr>\n",
       "  </tbody>\n",
       "</table>\n",
       "</div>"
      ],
      "text/plain": [
       "  Geography  Gender  HasCrCard  IsActiveMember  Exited\n",
       "0    France  Female          1               1       1\n",
       "1     Spain  Female          0               1       0\n",
       "2    France  Female          1               0       1\n",
       "3    France  Female          0               0       0\n",
       "4     Spain  Female          1               1       0"
      ]
     },
     "execution_count": 12,
     "metadata": {},
     "output_type": "execute_result"
    }
   ],
   "source": [
    "df_categoricas_01.head(5)"
   ]
  },
  {
   "cell_type": "code",
   "execution_count": 13,
   "metadata": {
    "colab": {
     "base_uri": "https://localhost:8080/",
     "height": 217
    },
    "colab_type": "code",
    "executionInfo": {
     "elapsed": 5689,
     "status": "ok",
     "timestamp": 1597971395721,
     "user": {
      "displayName": "ANDRE OMAR CHAVEZ PANDURO",
      "photoUrl": "https://lh3.googleusercontent.com/a-/AOh14GhhoQ1kbFXrI1LHS5aCbnzbQoTSVMlrpsL1-iED=s64",
      "userId": "14331399592622880507"
     },
     "user_tz": 300
    },
    "id": "acUDUzBJauQj",
    "outputId": "4801fedc-22c8-492c-cd08-a1f09295871a"
   },
   "outputs": [
    {
     "name": "stdout",
     "output_type": "stream",
     "text": [
      "Geography\n",
      "Gender\n",
      "HasCrCard\n",
      "IsActiveMember\n",
      "Exited\n"
     ]
    },
    {
     "name": "stderr",
     "output_type": "stream",
     "text": [
      "/home/diego/anaconda3/lib/python3.7/site-packages/ipykernel_launcher.py:9: SettingWithCopyWarning: \n",
      "A value is trying to be set on a copy of a slice from a DataFrame.\n",
      "Try using .loc[row_indexer,col_indexer] = value instead\n",
      "\n",
      "See the caveats in the documentation: https://pandas.pydata.org/pandas-docs/stable/user_guide/indexing.html#returning-a-view-versus-a-copy\n",
      "  if __name__ == '__main__':\n"
     ]
    }
   ],
   "source": [
    "# Tratamiento de Variables Categoricas\n",
    "# LabelEncoder\n",
    "from sklearn.preprocessing import LabelEncoder\n",
    "\n",
    "for c in df_categoricas_01:\n",
    "    print(str(c))\n",
    "    le = LabelEncoder()\n",
    "    le.fit(df_categoricas_01[str(c)])\n",
    "    df_categoricas_01[str(c)]=le.transform(df_categoricas_01[str(c)]) "
   ]
  },
  {
   "cell_type": "code",
   "execution_count": 14,
   "metadata": {
    "colab": {
     "base_uri": "https://localhost:8080/",
     "height": 198
    },
    "colab_type": "code",
    "executionInfo": {
     "elapsed": 577,
     "status": "ok",
     "timestamp": 1597971405176,
     "user": {
      "displayName": "ANDRE OMAR CHAVEZ PANDURO",
      "photoUrl": "https://lh3.googleusercontent.com/a-/AOh14GhhoQ1kbFXrI1LHS5aCbnzbQoTSVMlrpsL1-iED=s64",
      "userId": "14331399592622880507"
     },
     "user_tz": 300
    },
    "id": "YHbMVlv0aWgN",
    "outputId": "31c12f07-3db0-433f-b1ae-916006454413"
   },
   "outputs": [
    {
     "data": {
      "text/html": [
       "<div>\n",
       "<style scoped>\n",
       "    .dataframe tbody tr th:only-of-type {\n",
       "        vertical-align: middle;\n",
       "    }\n",
       "\n",
       "    .dataframe tbody tr th {\n",
       "        vertical-align: top;\n",
       "    }\n",
       "\n",
       "    .dataframe thead th {\n",
       "        text-align: right;\n",
       "    }\n",
       "</style>\n",
       "<table border=\"1\" class=\"dataframe\">\n",
       "  <thead>\n",
       "    <tr style=\"text-align: right;\">\n",
       "      <th></th>\n",
       "      <th>Geography</th>\n",
       "      <th>Gender</th>\n",
       "      <th>HasCrCard</th>\n",
       "      <th>IsActiveMember</th>\n",
       "      <th>Exited</th>\n",
       "    </tr>\n",
       "  </thead>\n",
       "  <tbody>\n",
       "    <tr>\n",
       "      <th>0</th>\n",
       "      <td>0</td>\n",
       "      <td>0</td>\n",
       "      <td>1</td>\n",
       "      <td>1</td>\n",
       "      <td>1</td>\n",
       "    </tr>\n",
       "    <tr>\n",
       "      <th>1</th>\n",
       "      <td>2</td>\n",
       "      <td>0</td>\n",
       "      <td>0</td>\n",
       "      <td>1</td>\n",
       "      <td>0</td>\n",
       "    </tr>\n",
       "    <tr>\n",
       "      <th>2</th>\n",
       "      <td>0</td>\n",
       "      <td>0</td>\n",
       "      <td>1</td>\n",
       "      <td>0</td>\n",
       "      <td>1</td>\n",
       "    </tr>\n",
       "    <tr>\n",
       "      <th>3</th>\n",
       "      <td>0</td>\n",
       "      <td>0</td>\n",
       "      <td>0</td>\n",
       "      <td>0</td>\n",
       "      <td>0</td>\n",
       "    </tr>\n",
       "    <tr>\n",
       "      <th>4</th>\n",
       "      <td>2</td>\n",
       "      <td>0</td>\n",
       "      <td>1</td>\n",
       "      <td>1</td>\n",
       "      <td>0</td>\n",
       "    </tr>\n",
       "  </tbody>\n",
       "</table>\n",
       "</div>"
      ],
      "text/plain": [
       "   Geography  Gender  HasCrCard  IsActiveMember  Exited\n",
       "0          0       0          1               1       1\n",
       "1          2       0          0               1       0\n",
       "2          0       0          1               0       1\n",
       "3          0       0          0               0       0\n",
       "4          2       0          1               1       0"
      ]
     },
     "execution_count": 14,
     "metadata": {},
     "output_type": "execute_result"
    }
   ],
   "source": [
    "# Hemos utilizado label encoder!\n",
    "df_categoricas_01.head(5)"
   ]
  },
  {
   "cell_type": "code",
   "execution_count": 15,
   "metadata": {
    "colab": {},
    "colab_type": "code",
    "executionInfo": {
     "elapsed": 547,
     "status": "ok",
     "timestamp": 1597971741969,
     "user": {
      "displayName": "ANDRE OMAR CHAVEZ PANDURO",
      "photoUrl": "https://lh3.googleusercontent.com/a-/AOh14GhhoQ1kbFXrI1LHS5aCbnzbQoTSVMlrpsL1-iED=s64",
      "userId": "14331399592622880507"
     },
     "user_tz": 300
    },
    "id": "KX8nWr_Kt1-K"
   },
   "outputs": [],
   "source": [
    "# Concatenamos la informacion!\n",
    "df2 = pd.concat([df[ColumnsNumericas],df_categoricas_01],axis=1)"
   ]
  },
  {
   "cell_type": "code",
   "execution_count": null,
   "metadata": {
    "colab": {},
    "colab_type": "code",
    "id": "zsypR1Yyf8ve"
   },
   "outputs": [],
   "source": [
    "# Vemos los valores del dataset!"
   ]
  },
  {
   "cell_type": "code",
   "execution_count": 16,
   "metadata": {
    "colab": {
     "base_uri": "https://localhost:8080/",
     "height": 198
    },
    "colab_type": "code",
    "executionInfo": {
     "elapsed": 533,
     "status": "ok",
     "timestamp": 1597971757560,
     "user": {
      "displayName": "ANDRE OMAR CHAVEZ PANDURO",
      "photoUrl": "https://lh3.googleusercontent.com/a-/AOh14GhhoQ1kbFXrI1LHS5aCbnzbQoTSVMlrpsL1-iED=s64",
      "userId": "14331399592622880507"
     },
     "user_tz": 300
    },
    "id": "a5mcPuKD0oYB",
    "outputId": "f62cc389-bb4f-413d-b354-7f95ba65663d"
   },
   "outputs": [
    {
     "data": {
      "text/html": [
       "<div>\n",
       "<style scoped>\n",
       "    .dataframe tbody tr th:only-of-type {\n",
       "        vertical-align: middle;\n",
       "    }\n",
       "\n",
       "    .dataframe tbody tr th {\n",
       "        vertical-align: top;\n",
       "    }\n",
       "\n",
       "    .dataframe thead th {\n",
       "        text-align: right;\n",
       "    }\n",
       "</style>\n",
       "<table border=\"1\" class=\"dataframe\">\n",
       "  <thead>\n",
       "    <tr style=\"text-align: right;\">\n",
       "      <th></th>\n",
       "      <th>CreditScore</th>\n",
       "      <th>Age</th>\n",
       "      <th>Tenure</th>\n",
       "      <th>Balance</th>\n",
       "      <th>NumOfProducts</th>\n",
       "      <th>EstimatedSalary</th>\n",
       "      <th>Geography</th>\n",
       "      <th>Gender</th>\n",
       "      <th>HasCrCard</th>\n",
       "      <th>IsActiveMember</th>\n",
       "      <th>Exited</th>\n",
       "    </tr>\n",
       "  </thead>\n",
       "  <tbody>\n",
       "    <tr>\n",
       "      <th>0</th>\n",
       "      <td>619</td>\n",
       "      <td>42</td>\n",
       "      <td>2</td>\n",
       "      <td>0.00</td>\n",
       "      <td>1</td>\n",
       "      <td>101348.88</td>\n",
       "      <td>0</td>\n",
       "      <td>0</td>\n",
       "      <td>1</td>\n",
       "      <td>1</td>\n",
       "      <td>1</td>\n",
       "    </tr>\n",
       "    <tr>\n",
       "      <th>1</th>\n",
       "      <td>608</td>\n",
       "      <td>41</td>\n",
       "      <td>1</td>\n",
       "      <td>83807.86</td>\n",
       "      <td>1</td>\n",
       "      <td>112542.58</td>\n",
       "      <td>2</td>\n",
       "      <td>0</td>\n",
       "      <td>0</td>\n",
       "      <td>1</td>\n",
       "      <td>0</td>\n",
       "    </tr>\n",
       "    <tr>\n",
       "      <th>2</th>\n",
       "      <td>502</td>\n",
       "      <td>42</td>\n",
       "      <td>8</td>\n",
       "      <td>159660.80</td>\n",
       "      <td>3</td>\n",
       "      <td>113931.57</td>\n",
       "      <td>0</td>\n",
       "      <td>0</td>\n",
       "      <td>1</td>\n",
       "      <td>0</td>\n",
       "      <td>1</td>\n",
       "    </tr>\n",
       "    <tr>\n",
       "      <th>3</th>\n",
       "      <td>699</td>\n",
       "      <td>39</td>\n",
       "      <td>1</td>\n",
       "      <td>0.00</td>\n",
       "      <td>2</td>\n",
       "      <td>93826.63</td>\n",
       "      <td>0</td>\n",
       "      <td>0</td>\n",
       "      <td>0</td>\n",
       "      <td>0</td>\n",
       "      <td>0</td>\n",
       "    </tr>\n",
       "    <tr>\n",
       "      <th>4</th>\n",
       "      <td>850</td>\n",
       "      <td>43</td>\n",
       "      <td>2</td>\n",
       "      <td>125510.82</td>\n",
       "      <td>1</td>\n",
       "      <td>79084.10</td>\n",
       "      <td>2</td>\n",
       "      <td>0</td>\n",
       "      <td>1</td>\n",
       "      <td>1</td>\n",
       "      <td>0</td>\n",
       "    </tr>\n",
       "  </tbody>\n",
       "</table>\n",
       "</div>"
      ],
      "text/plain": [
       "   CreditScore  Age  Tenure    Balance  NumOfProducts  EstimatedSalary  \\\n",
       "0          619   42       2       0.00              1        101348.88   \n",
       "1          608   41       1   83807.86              1        112542.58   \n",
       "2          502   42       8  159660.80              3        113931.57   \n",
       "3          699   39       1       0.00              2         93826.63   \n",
       "4          850   43       2  125510.82              1         79084.10   \n",
       "\n",
       "   Geography  Gender  HasCrCard  IsActiveMember  Exited  \n",
       "0          0       0          1               1       1  \n",
       "1          2       0          0               1       0  \n",
       "2          0       0          1               0       1  \n",
       "3          0       0          0               0       0  \n",
       "4          2       0          1               1       0  "
      ]
     },
     "execution_count": 16,
     "metadata": {},
     "output_type": "execute_result"
    }
   ],
   "source": [
    "df2.head(5)"
   ]
  },
  {
   "cell_type": "code",
   "execution_count": 17,
   "metadata": {
    "colab": {},
    "colab_type": "code",
    "executionInfo": {
     "elapsed": 552,
     "status": "ok",
     "timestamp": 1597971803329,
     "user": {
      "displayName": "ANDRE OMAR CHAVEZ PANDURO",
      "photoUrl": "https://lh3.googleusercontent.com/a-/AOh14GhhoQ1kbFXrI1LHS5aCbnzbQoTSVMlrpsL1-iED=s64",
      "userId": "14331399592622880507"
     },
     "user_tz": 300
    },
    "id": "xGxy30nUeHZX"
   },
   "outputs": [],
   "source": [
    "# Separamos las covariables y el target!\n",
    "X = df2.iloc[:,:10]\n",
    "y = df2.Exited"
   ]
  },
  {
   "cell_type": "markdown",
   "metadata": {
    "colab_type": "text",
    "id": "zUMs1c0pzmb_"
   },
   "source": [
    "### **PARTE II - PARTICION MUESTRAL  Y ESCALAMIENTO DE DATOS **"
   ]
  },
  {
   "cell_type": "code",
   "execution_count": 18,
   "metadata": {
    "colab": {},
    "colab_type": "code",
    "executionInfo": {
     "elapsed": 580,
     "status": "ok",
     "timestamp": 1597972011843,
     "user": {
      "displayName": "ANDRE OMAR CHAVEZ PANDURO",
      "photoUrl": "https://lh3.googleusercontent.com/a-/AOh14GhhoQ1kbFXrI1LHS5aCbnzbQoTSVMlrpsL1-iED=s64",
      "userId": "14331399592622880507"
     },
     "user_tz": 300
    },
    "id": "oH9t81P8wGKv"
   },
   "outputs": [],
   "source": [
    "# Dividir el data set en conjunto de entrenamiento y conjunto de testing\n",
    "from sklearn.model_selection import train_test_split\n",
    "X_train, X_test, y_train, y_test = train_test_split(X,\n",
    "                                                    y,\n",
    "                                                    test_size=0.33,\n",
    "                                                    stratify=y,\n",
    "                                                    random_state=100)"
   ]
  },
  {
   "cell_type": "code",
   "execution_count": null,
   "metadata": {
    "colab": {},
    "colab_type": "code",
    "id": "YtUEHkun0sBb"
   },
   "outputs": [],
   "source": [
    "# Numero de Hijos : [0 - 8]\n",
    "# Ingreso de la persona : [830 - 20000]"
   ]
  },
  {
   "cell_type": "code",
   "execution_count": 19,
   "metadata": {
    "colab": {},
    "colab_type": "code",
    "executionInfo": {
     "elapsed": 1202,
     "status": "ok",
     "timestamp": 1597972120198,
     "user": {
      "displayName": "ANDRE OMAR CHAVEZ PANDURO",
      "photoUrl": "https://lh3.googleusercontent.com/a-/AOh14GhhoQ1kbFXrI1LHS5aCbnzbQoTSVMlrpsL1-iED=s64",
      "userId": "14331399592622880507"
     },
     "user_tz": 300
    },
    "id": "wibW9DQfwGVP"
   },
   "outputs": [],
   "source": [
    "# Importante !!!\n",
    "# Escalado de variables\n",
    "\n",
    "from sklearn.preprocessing import StandardScaler # Importan el modulo\n",
    "sc_X = StandardScaler()                          # Definir la funcion\n",
    "X_train = sc_X.fit_transform(X_train)            # Ajuste\n",
    "X_test = sc_X.transform(X_test)                  # Aplicacion"
   ]
  },
  {
   "cell_type": "code",
   "execution_count": 20,
   "metadata": {
    "colab": {
     "base_uri": "https://localhost:8080/",
     "height": 35
    },
    "colab_type": "code",
    "executionInfo": {
     "elapsed": 738,
     "status": "ok",
     "timestamp": 1597972131841,
     "user": {
      "displayName": "ANDRE OMAR CHAVEZ PANDURO",
      "photoUrl": "https://lh3.googleusercontent.com/a-/AOh14GhhoQ1kbFXrI1LHS5aCbnzbQoTSVMlrpsL1-iED=s64",
      "userId": "14331399592622880507"
     },
     "user_tz": 300
    },
    "id": "CED6ffHmh8B8",
    "outputId": "4c510861-5f75-4212-c743-50177b694f02"
   },
   "outputs": [
    {
     "data": {
      "text/plain": [
       "(6700, 10)"
      ]
     },
     "execution_count": 20,
     "metadata": {},
     "output_type": "execute_result"
    }
   ],
   "source": [
    "X_train.shape"
   ]
  },
  {
   "cell_type": "markdown",
   "metadata": {
    "colab_type": "text",
    "id": "nG02mJPUz0k5"
   },
   "source": [
    "### **PARTE III - CONSTRUCCION DE LA RED NEURONAL ARTIFICIAL **"
   ]
  },
  {
   "cell_type": "code",
   "execution_count": 21,
   "metadata": {},
   "outputs": [
    {
     "name": "stdout",
     "output_type": "stream",
     "text": [
      "Collecting keras\n",
      "  Downloading Keras-2.4.3-py2.py3-none-any.whl (36 kB)\n",
      "Requirement already satisfied: h5py in /home/diego/anaconda3/lib/python3.7/site-packages (from keras) (2.10.0)\n",
      "Requirement already satisfied: pyyaml in /home/diego/anaconda3/lib/python3.7/site-packages (from keras) (5.3)\n",
      "Requirement already satisfied: numpy>=1.9.1 in /home/diego/anaconda3/lib/python3.7/site-packages (from keras) (1.19.1)\n",
      "Requirement already satisfied: scipy>=0.14 in /home/diego/anaconda3/lib/python3.7/site-packages (from keras) (1.5.2)\n",
      "Requirement already satisfied: six in /home/diego/anaconda3/lib/python3.7/site-packages (from h5py->keras) (1.14.0)\n",
      "Installing collected packages: keras\n",
      "Successfully installed keras-2.4.3\n"
     ]
    }
   ],
   "source": [
    "!pip install keras"
   ]
  },
  {
   "cell_type": "code",
   "execution_count": 22,
   "metadata": {},
   "outputs": [
    {
     "name": "stdout",
     "output_type": "stream",
     "text": [
      "Collecting pip\n",
      "  Downloading pip-20.2.3-py2.py3-none-any.whl (1.5 MB)\n",
      "\u001b[K     |████████████████████████████████| 1.5 MB 221 kB/s eta 0:00:01\n",
      "\u001b[?25hInstalling collected packages: pip\n",
      "  Attempting uninstall: pip\n",
      "    Found existing installation: pip 20.0.2\n",
      "    Uninstalling pip-20.0.2:\n",
      "      Successfully uninstalled pip-20.0.2\n",
      "Successfully installed pip-20.2.3\n",
      "Note: you may need to restart the kernel to use updated packages.\n"
     ]
    }
   ],
   "source": [
    "pip install --upgrade pip"
   ]
  },
  {
   "cell_type": "code",
   "execution_count": 23,
   "metadata": {},
   "outputs": [
    {
     "name": "stdout",
     "output_type": "stream",
     "text": [
      "Collecting tensorflow\n",
      "  Downloading tensorflow-2.3.0-cp37-cp37m-manylinux2010_x86_64.whl (320.4 MB)\n",
      "\u001b[K     |████████████████████████████████| 320.4 MB 21 kB/s  eta 0:00:01    |█▌                              | 14.8 MB 113 kB/s eta 0:45:03     |███████████████▍                | 154.0 MB 6.6 MB/s eta 0:00:26     |█████████████████▊              | 177.1 MB 474 kB/s eta 0:05:03     |███████████████████             | 189.6 MB 250 kB/s eta 0:08:42     |███████████████████▊            | 197.5 MB 316 kB/s eta 0:06:29   | 199.5 MB 993 kB/s eta 0:02:02     |████████████████████▏           | 201.9 MB 772 kB/s eta 0:02:34     |██████████████████████          | 219.2 MB 1.6 MB/s eta 0:01:05     |████████████████████████▍       | 244.7 MB 315 kB/s eta 0:04:00     |████████████████████████▊       | 247.2 MB 414 kB/s eta 0:02:57     |█████████████████████████▎      | 252.5 MB 205 kB/s eta 0:05:30     |███████████████████████████▌    | 275.7 MB 252 kB/s eta 0:02:57     |█████████████████████████████▊  | 297.1 MB 197 kB/s eta 0:01:59     |██████████████████████████████  | 299.3 MB 316 kB/s eta 0:01:07     |███████████████████████████████▋| 316.2 MB 154 kB/s eta 0:00:27\n",
      "\u001b[?25hRequirement already satisfied: six>=1.12.0 in /home/diego/anaconda3/lib/python3.7/site-packages (from tensorflow) (1.14.0)\n",
      "Collecting scipy==1.4.1\n",
      "  Downloading scipy-1.4.1-cp37-cp37m-manylinux1_x86_64.whl (26.1 MB)\n",
      "\u001b[K     |████████████████████████████████| 26.1 MB 283 kB/s eta 0:00:01     |████████████████████████        | 19.6 MB 283 kB/s eta 0:00:23\n",
      "\u001b[?25hCollecting google-pasta>=0.1.8\n",
      "  Downloading google_pasta-0.2.0-py3-none-any.whl (57 kB)\n",
      "\u001b[K     |████████████████████████████████| 57 kB 155 kB/s eta 0:00:01\n",
      "\u001b[?25hCollecting keras-preprocessing<1.2,>=1.1.1\n",
      "  Downloading Keras_Preprocessing-1.1.2-py2.py3-none-any.whl (42 kB)\n",
      "\u001b[K     |████████████████████████████████| 42 kB 91 kB/s  eta 0:00:01\n",
      "\u001b[?25hCollecting gast==0.3.3\n",
      "  Downloading gast-0.3.3-py2.py3-none-any.whl (9.7 kB)\n",
      "Collecting opt-einsum>=2.3.2\n",
      "  Downloading opt_einsum-3.3.0-py3-none-any.whl (65 kB)\n",
      "\u001b[K     |████████████████████████████████| 65 kB 195 kB/s eta 0:00:01\n",
      "\u001b[?25hRequirement already satisfied: protobuf>=3.9.2 in /home/diego/anaconda3/lib/python3.7/site-packages (from tensorflow) (3.13.0)\n",
      "Collecting grpcio>=1.8.6\n",
      "  Downloading grpcio-1.32.0-cp37-cp37m-manylinux2014_x86_64.whl (3.8 MB)\n",
      "\u001b[K     |████████████████████████████████| 3.8 MB 16 kB/s  eta 0:00:01\n",
      "\u001b[?25hCollecting absl-py>=0.7.0\n",
      "  Downloading absl_py-0.10.0-py3-none-any.whl (127 kB)\n",
      "\u001b[K     |████████████████████████████████| 127 kB 308 kB/s eta 0:00:01\n",
      "\u001b[?25hCollecting tensorflow-estimator<2.4.0,>=2.3.0\n",
      "  Downloading tensorflow_estimator-2.3.0-py2.py3-none-any.whl (459 kB)\n",
      "\u001b[K     |████████████████████████████████| 459 kB 302 kB/s eta 0:00:01\n",
      "\u001b[?25hRequirement already satisfied: wrapt>=1.11.1 in /home/diego/anaconda3/lib/python3.7/site-packages (from tensorflow) (1.12.1)\n",
      "Collecting astunparse==1.6.3\n",
      "  Downloading astunparse-1.6.3-py2.py3-none-any.whl (12 kB)\n",
      "Requirement already satisfied: wheel>=0.26 in /home/diego/anaconda3/lib/python3.7/site-packages (from tensorflow) (0.34.2)\n",
      "Collecting tensorboard<3,>=2.3.0\n",
      "  Downloading tensorboard-2.3.0-py3-none-any.whl (6.8 MB)\n",
      "\u001b[K     |████████████████████████████████| 6.8 MB 702 kB/s eta 0:00:01\n",
      "\u001b[?25hRequirement already satisfied: h5py<2.11.0,>=2.10.0 in /home/diego/anaconda3/lib/python3.7/site-packages (from tensorflow) (2.10.0)\n",
      "Collecting termcolor>=1.1.0\n",
      "  Downloading termcolor-1.1.0.tar.gz (3.9 kB)\n",
      "Collecting numpy<1.19.0,>=1.16.0\n",
      "  Downloading numpy-1.18.5-cp37-cp37m-manylinux1_x86_64.whl (20.1 MB)\n",
      "\u001b[K     |████████████████████████████████| 20.1 MB 1.3 MB/s eta 0:00:01\n",
      "\u001b[?25hRequirement already satisfied: setuptools in /home/diego/anaconda3/lib/python3.7/site-packages (from protobuf>=3.9.2->tensorflow) (46.0.0.post20200309)\n",
      "Requirement already satisfied: werkzeug>=0.11.15 in /home/diego/anaconda3/lib/python3.7/site-packages (from tensorboard<3,>=2.3.0->tensorflow) (1.0.0)\n",
      "Collecting markdown>=2.6.8\n",
      "  Downloading Markdown-3.2.2-py3-none-any.whl (88 kB)\n",
      "\u001b[K     |████████████████████████████████| 88 kB 791 kB/s eta 0:00:01\n",
      "\u001b[?25hRequirement already satisfied: requests<3,>=2.21.0 in /home/diego/anaconda3/lib/python3.7/site-packages (from tensorboard<3,>=2.3.0->tensorflow) (2.23.0)\n",
      "Collecting tensorboard-plugin-wit>=1.6.0\n",
      "  Downloading tensorboard_plugin_wit-1.7.0-py3-none-any.whl (779 kB)\n",
      "\u001b[K     |████████████████████████████████| 779 kB 2.6 MB/s eta 0:00:01\n",
      "\u001b[?25hCollecting google-auth<2,>=1.6.3\n",
      "  Downloading google_auth-1.21.1-py2.py3-none-any.whl (93 kB)\n",
      "\u001b[K     |████████████████████████████████| 93 kB 154 kB/s eta 0:00:01\n",
      "\u001b[?25hCollecting google-auth-oauthlib<0.5,>=0.4.1\n",
      "  Downloading google_auth_oauthlib-0.4.1-py2.py3-none-any.whl (18 kB)\n",
      "Requirement already satisfied: importlib-metadata; python_version < \"3.8\" in /home/diego/anaconda3/lib/python3.7/site-packages (from markdown>=2.6.8->tensorboard<3,>=2.3.0->tensorflow) (1.5.0)\n",
      "Requirement already satisfied: idna<3,>=2.5 in /home/diego/anaconda3/lib/python3.7/site-packages (from requests<3,>=2.21.0->tensorboard<3,>=2.3.0->tensorflow) (2.9)\n",
      "Requirement already satisfied: chardet<4,>=3.0.2 in /home/diego/anaconda3/lib/python3.7/site-packages (from requests<3,>=2.21.0->tensorboard<3,>=2.3.0->tensorflow) (3.0.4)\n",
      "Requirement already satisfied: certifi>=2017.4.17 in /home/diego/anaconda3/lib/python3.7/site-packages (from requests<3,>=2.21.0->tensorboard<3,>=2.3.0->tensorflow) (2019.11.28)\n",
      "Requirement already satisfied: urllib3!=1.25.0,!=1.25.1,<1.26,>=1.21.1 in /home/diego/anaconda3/lib/python3.7/site-packages (from requests<3,>=2.21.0->tensorboard<3,>=2.3.0->tensorflow) (1.25.8)\n",
      "Collecting rsa<5,>=3.1.4; python_version >= \"3.5\"\n",
      "  Downloading rsa-4.6-py3-none-any.whl (47 kB)\n",
      "\u001b[K     |████████████████████████████████| 47 kB 563 kB/s eta 0:00:01\n",
      "\u001b[?25hCollecting pyasn1-modules>=0.2.1\n",
      "  Downloading pyasn1_modules-0.2.8-py2.py3-none-any.whl (155 kB)\n",
      "\u001b[K     |████████████████████████████████| 155 kB 2.8 MB/s eta 0:00:01\n",
      "\u001b[?25hCollecting cachetools<5.0,>=2.0.0\n",
      "  Downloading cachetools-4.1.1-py3-none-any.whl (10 kB)\n",
      "Collecting requests-oauthlib>=0.7.0\n",
      "  Downloading requests_oauthlib-1.3.0-py2.py3-none-any.whl (23 kB)\n",
      "Requirement already satisfied: zipp>=0.5 in /home/diego/anaconda3/lib/python3.7/site-packages (from importlib-metadata; python_version < \"3.8\"->markdown>=2.6.8->tensorboard<3,>=2.3.0->tensorflow) (2.2.0)\n",
      "Collecting pyasn1>=0.1.3\n",
      "  Downloading pyasn1-0.4.8-py2.py3-none-any.whl (77 kB)\n",
      "\u001b[K     |████████████████████████████████| 77 kB 657 kB/s eta 0:00:01\n",
      "\u001b[?25hCollecting oauthlib>=3.0.0\n",
      "  Downloading oauthlib-3.1.0-py2.py3-none-any.whl (147 kB)\n",
      "\u001b[K     |████████████████████████████████| 147 kB 2.7 MB/s eta 0:00:01\n",
      "\u001b[?25hBuilding wheels for collected packages: termcolor\n",
      "  Building wheel for termcolor (setup.py) ... \u001b[?25ldone\n",
      "\u001b[?25h  Created wheel for termcolor: filename=termcolor-1.1.0-py3-none-any.whl size=4830 sha256=688c058c67d8eb62ae2bbe93e36b5bdf62859f70ad8a4a921633568429152805\n",
      "  Stored in directory: /home/diego/.cache/pip/wheels/3f/e3/ec/8a8336ff196023622fbcb36de0c5a5c218cbb24111d1d4c7f2\n",
      "Successfully built termcolor\n",
      "Installing collected packages: numpy, scipy, google-pasta, keras-preprocessing, gast, opt-einsum, grpcio, absl-py, tensorflow-estimator, astunparse, markdown, tensorboard-plugin-wit, pyasn1, rsa, pyasn1-modules, cachetools, google-auth, oauthlib, requests-oauthlib, google-auth-oauthlib, tensorboard, termcolor, tensorflow\n",
      "  Attempting uninstall: numpy\n",
      "    Found existing installation: numpy 1.19.1\n",
      "    Uninstalling numpy-1.19.1:\n",
      "      Successfully uninstalled numpy-1.19.1\n",
      "  Attempting uninstall: scipy\n",
      "    Found existing installation: scipy 1.5.2\n",
      "    Uninstalling scipy-1.5.2:\n",
      "      Successfully uninstalled scipy-1.5.2\n",
      "Successfully installed absl-py-0.10.0 astunparse-1.6.3 cachetools-4.1.1 gast-0.3.3 google-auth-1.21.1 google-auth-oauthlib-0.4.1 google-pasta-0.2.0 grpcio-1.32.0 keras-preprocessing-1.1.2 markdown-3.2.2 numpy-1.18.5 oauthlib-3.1.0 opt-einsum-3.3.0 pyasn1-0.4.8 pyasn1-modules-0.2.8 requests-oauthlib-1.3.0 rsa-4.6 scipy-1.4.1 tensorboard-2.3.0 tensorboard-plugin-wit-1.7.0 tensorflow-2.3.0 tensorflow-estimator-2.3.0 termcolor-1.1.0\n"
     ]
    },
    {
     "name": "stdout",
     "output_type": "stream",
     "text": [
      "Note: you may need to restart the kernel to use updated packages.\n"
     ]
    }
   ],
   "source": [
    "pip install tensorflow"
   ]
  },
  {
   "cell_type": "code",
   "execution_count": null,
   "metadata": {
    "colab": {},
    "colab_type": "code",
    "executionInfo": {
     "elapsed": 2096,
     "status": "ok",
     "timestamp": 1597972390136,
     "user": {
      "displayName": "ANDRE OMAR CHAVEZ PANDURO",
      "photoUrl": "https://lh3.googleusercontent.com/a-/AOh14GhhoQ1kbFXrI1LHS5aCbnzbQoTSVMlrpsL1-iED=s64",
      "userId": "14331399592622880507"
     },
     "user_tz": 300
    },
    "id": "KvnIVaAF0j8r"
   },
   "outputs": [],
   "source": [
    "# Importar Keras y librerías adicionales\n",
    "import keras\n",
    "from keras.models import Sequential # Arquitectura de la red\n",
    "from keras.layers import Dense      # Capas de las redes neuronales\n",
    "from keras.layers import Dropout    # Regularizacion / Evita sobreajuste"
   ]
  },
  {
   "cell_type": "code",
   "execution_count": null,
   "metadata": {
    "colab": {},
    "colab_type": "code",
    "executionInfo": {
     "elapsed": 559,
     "status": "ok",
     "timestamp": 1597972440458,
     "user": {
      "displayName": "ANDRE OMAR CHAVEZ PANDURO",
      "photoUrl": "https://lh3.googleusercontent.com/a-/AOh14GhhoQ1kbFXrI1LHS5aCbnzbQoTSVMlrpsL1-iED=s64",
      "userId": "14331399592622880507"
     },
     "user_tz": 300
    },
    "id": "1VKH3kDN0kJc"
   },
   "outputs": [],
   "source": [
    "# Inicializar la RNA.\n",
    "# Si la definimos como secuencia de capas es mucho mas facil despues trabajar con ellas.\n",
    "classifier = Sequential() # Podria codificar aca las capas y demas pero lo hacemos una a una."
   ]
  },
  {
   "cell_type": "code",
   "execution_count": null,
   "metadata": {
    "colab": {
     "base_uri": "https://localhost:8080/",
     "height": 35
    },
    "colab_type": "code",
    "executionInfo": {
     "elapsed": 527,
     "status": "ok",
     "timestamp": 1597972570604,
     "user": {
      "displayName": "ANDRE OMAR CHAVEZ PANDURO",
      "photoUrl": "https://lh3.googleusercontent.com/a-/AOh14GhhoQ1kbFXrI1LHS5aCbnzbQoTSVMlrpsL1-iED=s64",
      "userId": "14331399592622880507"
     },
     "user_tz": 300
    },
    "id": "Q2-44v9KlkU4",
    "outputId": "d330dbfa-2bb2-4681-9be0-314b152fbe8c"
   },
   "outputs": [],
   "source": [
    "X_train.shape"
   ]
  },
  {
   "cell_type": "code",
   "execution_count": null,
   "metadata": {
    "colab": {},
    "colab_type": "code",
    "executionInfo": {
     "elapsed": 772,
     "status": "ok",
     "timestamp": 1597972702411,
     "user": {
      "displayName": "ANDRE OMAR CHAVEZ PANDURO",
      "photoUrl": "https://lh3.googleusercontent.com/a-/AOh14GhhoQ1kbFXrI1LHS5aCbnzbQoTSVMlrpsL1-iED=s64",
      "userId": "14331399592622880507"
     },
     "user_tz": 300
    },
    "id": "ribVxshg0sfB"
   },
   "outputs": [],
   "source": [
    "# Añadir las capas de entrada y primera capa oculta\n",
    "# Dense es un tipo de capa, la necesitamos codificar. \n",
    "# units : Numero de neuronas\n",
    "# kernel_initializer : Inicializacion de pesos.\n",
    "# activation : Funcion de activacion que te ayuda a la ingenieria de variables!\n",
    "# input_dim : Es el numero de variables o X o features.\n",
    "classifier.add(Dense(units = 6, kernel_initializer = \"uniform\",  activation = \"relu\", input_dim = 10)) # Primera capa oculta\n",
    "#classifier.add(Dropout(p = 0.05))"
   ]
  },
  {
   "cell_type": "code",
   "execution_count": null,
   "metadata": {
    "colab": {},
    "colab_type": "code",
    "executionInfo": {
     "elapsed": 464,
     "status": "ok",
     "timestamp": 1597972761006,
     "user": {
      "displayName": "ANDRE OMAR CHAVEZ PANDURO",
      "photoUrl": "https://lh3.googleusercontent.com/a-/AOh14GhhoQ1kbFXrI1LHS5aCbnzbQoTSVMlrpsL1-iED=s64",
      "userId": "14331399592622880507"
     },
     "user_tz": 300
    },
    "id": "yun0Mu8S0stb"
   },
   "outputs": [],
   "source": [
    "# Añadir la segunda capa oculta\n",
    "classifier.add(Dense(units = 6, kernel_initializer = \"uniform\",  activation = \"relu\"))\n",
    "#classifier.add(Dropout(p = 0.01)) # Regularización"
   ]
  },
  {
   "cell_type": "code",
   "execution_count": null,
   "metadata": {
    "colab": {},
    "colab_type": "code",
    "id": "HLnHIIIKojzH"
   },
   "outputs": [],
   "source": [
    "# Añadir la segunda capa oculta\n",
    "classifier.add(Dense(units = 6, kernel_initializer = \"uniform\",  activation = \"relu\"))\n",
    "#classifier.add(Dropout(p = 0.01)) # Regularización"
   ]
  },
  {
   "cell_type": "code",
   "execution_count": null,
   "metadata": {
    "colab": {},
    "colab_type": "code",
    "id": "Y6zYGKR4ojwl"
   },
   "outputs": [],
   "source": [
    "# Añadir la segunda capa oculta\n",
    "classifier.add(Dense(units = 6, kernel_initializer = \"uniform\",  activation = \"relu\"))\n",
    "#classifier.add(Dropout(p = 0.01)) # Regularización"
   ]
  },
  {
   "cell_type": "code",
   "execution_count": null,
   "metadata": {
    "colab": {},
    "colab_type": "code",
    "id": "Z5fr-EmJojuV"
   },
   "outputs": [],
   "source": [
    "# Añadir la segunda capa oculta\n",
    "classifier.add(Dense(units = 6, kernel_initializer = \"uniform\",  activation = \"relu\"))\n",
    "#classifier.add(Dropout(p = 0.01)) # Regularización"
   ]
  },
  {
   "cell_type": "code",
   "execution_count": null,
   "metadata": {
    "colab": {},
    "colab_type": "code",
    "id": "ZuxOp6OkojrF"
   },
   "outputs": [],
   "source": [
    "# Añadir la segunda capa oculta\n",
    "classifier.add(Dense(units = 6, kernel_initializer = \"uniform\",  activation = \"relu\"))\n",
    "#classifier.add(Dropout(p = 0.01)) # Regularización"
   ]
  },
  {
   "cell_type": "code",
   "execution_count": null,
   "metadata": {
    "colab": {},
    "colab_type": "code",
    "executionInfo": {
     "elapsed": 556,
     "status": "ok",
     "timestamp": 1597972817585,
     "user": {
      "displayName": "ANDRE OMAR CHAVEZ PANDURO",
      "photoUrl": "https://lh3.googleusercontent.com/a-/AOh14GhhoQ1kbFXrI1LHS5aCbnzbQoTSVMlrpsL1-iED=s64",
      "userId": "14331399592622880507"
     },
     "user_tz": 300
    },
    "id": "138aRTZr0s4R"
   },
   "outputs": [],
   "source": [
    "# Añadir la capa de salida\n",
    "# Solo necesitamos una unidad pues tenemos un resultado binario.\n",
    "classifier.add(Dense(units = 1, kernel_initializer = \"uniform\",  activation = \"sigmoid\"))\n",
    "# Si tengo mas de 2 categorias , puedo mantener la funcion de activacion sigmoide? +1"
   ]
  },
  {
   "cell_type": "code",
   "execution_count": null,
   "metadata": {
    "colab": {},
    "colab_type": "code",
    "executionInfo": {
     "elapsed": 559,
     "status": "ok",
     "timestamp": 1597972921177,
     "user": {
      "displayName": "ANDRE OMAR CHAVEZ PANDURO",
      "photoUrl": "https://lh3.googleusercontent.com/a-/AOh14GhhoQ1kbFXrI1LHS5aCbnzbQoTSVMlrpsL1-iED=s64",
      "userId": "14331399592622880507"
     },
     "user_tz": 300
    },
    "id": "fy4MD-DR0tDI"
   },
   "outputs": [],
   "source": [
    "# Compilar la RNA\n",
    "# Podemos probar con distintos optimizadores\n",
    "classifier.compile(optimizer = \"adam\", loss = \"binary_crossentropy\", metrics = [\"accuracy\"])"
   ]
  },
  {
   "cell_type": "code",
   "execution_count": null,
   "metadata": {
    "colab": {
     "base_uri": "https://localhost:8080/",
     "height": 272
    },
    "colab_type": "code",
    "executionInfo": {
     "elapsed": 544,
     "status": "ok",
     "timestamp": 1597972934146,
     "user": {
      "displayName": "ANDRE OMAR CHAVEZ PANDURO",
      "photoUrl": "https://lh3.googleusercontent.com/a-/AOh14GhhoQ1kbFXrI1LHS5aCbnzbQoTSVMlrpsL1-iED=s64",
      "userId": "14331399592622880507"
     },
     "user_tz": 300
    },
    "id": "zUdH6g96kbsF",
    "outputId": "93278642-2602-4a4c-cc99-702abc677480"
   },
   "outputs": [],
   "source": [
    "classifier.summary()"
   ]
  },
  {
   "cell_type": "markdown",
   "metadata": {
    "colab_type": "text",
    "id": "WBsW0BBB0WsZ"
   },
   "source": [
    "### **PARTE IV - ENTRENAMIENTO DE LA RED NEURONAL ARTIFICIAL **"
   ]
  },
  {
   "cell_type": "code",
   "execution_count": null,
   "metadata": {
    "colab": {
     "base_uri": "https://localhost:8080/",
     "height": 1000
    },
    "colab_type": "code",
    "executionInfo": {
     "elapsed": 24728,
     "status": "ok",
     "timestamp": 1597973086062,
     "user": {
      "displayName": "ANDRE OMAR CHAVEZ PANDURO",
      "photoUrl": "https://lh3.googleusercontent.com/a-/AOh14GhhoQ1kbFXrI1LHS5aCbnzbQoTSVMlrpsL1-iED=s64",
      "userId": "14331399592622880507"
     },
     "user_tz": 300
    },
    "id": "5VyuiqWq0tN3",
    "outputId": "4c9eca1e-42ab-4b9d-dadf-2436982b08b6"
   },
   "outputs": [],
   "source": [
    "# Ajustamos la RNA al Conjunto de Entrenamiento\n",
    "# batch_size : Numero de observaciones antes de actualizar los pesos/ tamaño del bloque a procesar.\n",
    "# epochs     : Numero de iteracciones globales / Mas veces mas aprendizaje u overfitting.\n",
    "history = classifier.fit(X_train, \n",
    "                         y_train, \n",
    "                         validation_split=0.33, \n",
    "                         batch_size = 32, \n",
    "                         epochs = 100)"
   ]
  },
  {
   "cell_type": "code",
   "execution_count": null,
   "metadata": {
    "colab": {},
    "colab_type": "code",
    "executionInfo": {
     "elapsed": 767,
     "status": "ok",
     "timestamp": 1597973216420,
     "user": {
      "displayName": "ANDRE OMAR CHAVEZ PANDURO",
      "photoUrl": "https://lh3.googleusercontent.com/a-/AOh14GhhoQ1kbFXrI1LHS5aCbnzbQoTSVMlrpsL1-iED=s64",
      "userId": "14331399592622880507"
     },
     "user_tz": 300
    },
    "id": "yvdu5Xjg0uBO"
   },
   "outputs": [],
   "source": [
    "# Evaluar el modelo y calcular predicciones finales\n",
    "y_pred_train  = classifier.predict(X_train)\n",
    "y_pred_train = (y_pred_train>0.5)\n",
    "\n",
    "y_pred_test  = classifier.predict(X_test)\n",
    "y_pred_test = (y_pred_test>0.5)"
   ]
  },
  {
   "cell_type": "markdown",
   "metadata": {
    "colab_type": "text",
    "id": "DkTYJpBG0gwG"
   },
   "source": [
    "### **PARTE V - VALIDACION DE LA RED NEURONAL ARTIFICIAL **"
   ]
  },
  {
   "cell_type": "code",
   "execution_count": null,
   "metadata": {
    "colab": {
     "base_uri": "https://localhost:8080/",
     "height": 126
    },
    "colab_type": "code",
    "executionInfo": {
     "elapsed": 518,
     "status": "ok",
     "timestamp": 1597973221325,
     "user": {
      "displayName": "ANDRE OMAR CHAVEZ PANDURO",
      "photoUrl": "https://lh3.googleusercontent.com/a-/AOh14GhhoQ1kbFXrI1LHS5aCbnzbQoTSVMlrpsL1-iED=s64",
      "userId": "14331399592622880507"
     },
     "user_tz": 300
    },
    "id": "k9Hvfurw1uKi",
    "outputId": "76c3fc5f-ac66-4f6e-b909-24808224219c"
   },
   "outputs": [],
   "source": [
    "# Elaborar una matriz de confusión\n",
    "from sklearn.metrics import confusion_matrix,recall_score,f1_score,accuracy_score\n",
    "cm_train = confusion_matrix(y_train, y_pred_train)\n",
    "cm_test = confusion_matrix(y_test, y_pred_test)\n",
    "\n",
    "recall_train = accuracy_score(y_train, y_pred_train)\n",
    "recall_test = accuracy_score(y_test, y_pred_test)\n",
    "\n",
    "\n",
    "print(cm_train)\n",
    "print(cm_test)\n",
    "print(recall_train)\n",
    "print(recall_test)"
   ]
  },
  {
   "cell_type": "code",
   "execution_count": null,
   "metadata": {
    "colab": {
     "base_uri": "https://localhost:8080/",
     "height": 35
    },
    "colab_type": "code",
    "executionInfo": {
     "elapsed": 620,
     "status": "ok",
     "timestamp": 1597973275023,
     "user": {
      "displayName": "ANDRE OMAR CHAVEZ PANDURO",
      "photoUrl": "https://lh3.googleusercontent.com/a-/AOh14GhhoQ1kbFXrI1LHS5aCbnzbQoTSVMlrpsL1-iED=s64",
      "userId": "14331399592622880507"
     },
     "user_tz": 300
    },
    "id": "qvdpoCSTgHKt",
    "outputId": "0a6576ba-1c12-4988-f3ed-2598a4cdd90b"
   },
   "outputs": [],
   "source": [
    "# GRAFICANDO resultados\n",
    "# list all data in history\n",
    "print(history.history.keys())\n"
   ]
  },
  {
   "cell_type": "code",
   "execution_count": null,
   "metadata": {
    "colab": {
     "base_uri": "https://localhost:8080/",
     "height": 295
    },
    "colab_type": "code",
    "executionInfo": {
     "elapsed": 575,
     "status": "ok",
     "timestamp": 1597973279537,
     "user": {
      "displayName": "ANDRE OMAR CHAVEZ PANDURO",
      "photoUrl": "https://lh3.googleusercontent.com/a-/AOh14GhhoQ1kbFXrI1LHS5aCbnzbQoTSVMlrpsL1-iED=s64",
      "userId": "14331399592622880507"
     },
     "user_tz": 300
    },
    "id": "IsxNA2h2iw2H",
    "outputId": "6ca66958-172a-43c9-994d-1cefb4a9a88f"
   },
   "outputs": [],
   "source": [
    "# Resumen del historial del accuracy!\n",
    "plt.plot(history.history['accuracy'])\n",
    "plt.plot(history.history['val_accuracy'])\n",
    "plt.title('model accuracy')\n",
    "plt.ylabel('accuracy')\n",
    "plt.xlabel('epoch')\n",
    "plt.legend(['train', 'test'], loc='upper left')\n",
    "plt.show()"
   ]
  },
  {
   "cell_type": "code",
   "execution_count": null,
   "metadata": {
    "colab": {
     "base_uri": "https://localhost:8080/",
     "height": 295
    },
    "colab_type": "code",
    "executionInfo": {
     "elapsed": 657,
     "status": "ok",
     "timestamp": 1597973307460,
     "user": {
      "displayName": "ANDRE OMAR CHAVEZ PANDURO",
      "photoUrl": "https://lh3.googleusercontent.com/a-/AOh14GhhoQ1kbFXrI1LHS5aCbnzbQoTSVMlrpsL1-iED=s64",
      "userId": "14331399592622880507"
     },
     "user_tz": 300
    },
    "id": "BpBej-eYiw4_",
    "outputId": "3ed727b7-aeef-4805-d02f-5f045a780ab4"
   },
   "outputs": [],
   "source": [
    "# Resumen del historial del error!\n",
    "plt.plot(history.history['loss'])\n",
    "plt.plot(history.history['val_loss'])\n",
    "plt.title('model loss')\n",
    "plt.ylabel('loss')\n",
    "plt.xlabel('epoch')\n",
    "plt.legend(['train', 'test'], loc='upper left')\n",
    "plt.show()"
   ]
  },
  {
   "cell_type": "code",
   "execution_count": null,
   "metadata": {
    "colab": {},
    "colab_type": "code",
    "executionInfo": {
     "elapsed": 595,
     "status": "ok",
     "timestamp": 1597973452230,
     "user": {
      "displayName": "ANDRE OMAR CHAVEZ PANDURO",
      "photoUrl": "https://lh3.googleusercontent.com/a-/AOh14GhhoQ1kbFXrI1LHS5aCbnzbQoTSVMlrpsL1-iED=s64",
      "userId": "14331399592622880507"
     },
     "user_tz": 300
    },
    "id": "7VeRzGhlSh0u"
   },
   "outputs": [],
   "source": [
    "# Guardamos el modelo de red neuronal para usarlo cuando lo necesitemos!\n",
    "classifier.save('Modelo_RedNeuronal.h5') "
   ]
  },
  {
   "cell_type": "code",
   "execution_count": null,
   "metadata": {
    "colab": {
     "base_uri": "https://localhost:8080/",
     "height": 272
    },
    "colab_type": "code",
    "executionInfo": {
     "elapsed": 872,
     "status": "ok",
     "timestamp": 1597973568089,
     "user": {
      "displayName": "ANDRE OMAR CHAVEZ PANDURO",
      "photoUrl": "https://lh3.googleusercontent.com/a-/AOh14GhhoQ1kbFXrI1LHS5aCbnzbQoTSVMlrpsL1-iED=s64",
      "userId": "14331399592622880507"
     },
     "user_tz": 300
    },
    "id": "Bs9zJrq_S8Mv",
    "outputId": "94010ed8-766c-467b-c3e2-d849507f5c20"
   },
   "outputs": [],
   "source": [
    "# Leemos el modelos con todos los pesos de la red neuronal!\n",
    "new_model = keras.models.load_model('Modelo_RedNeuronal.h5')\n",
    "\n",
    "# Mostramos la arquitectura del modelo!\n",
    "new_model.summary()"
   ]
  },
  {
   "cell_type": "markdown",
   "metadata": {
    "colab_type": "text",
    "id": "vGsWEX-o0mwv"
   },
   "source": [
    "### **PARTE VI - MEJORAR Y TUNEAR LA RED NEURONAL ARTIFICIAL **"
   ]
  },
  {
   "cell_type": "code",
   "execution_count": null,
   "metadata": {
    "colab": {},
    "colab_type": "code",
    "id": "Lx0BC17C1uit"
   },
   "outputs": [],
   "source": [
    "# Evaluar, mejorar y Ajustar la RNA"
   ]
  },
  {
   "cell_type": "code",
   "execution_count": null,
   "metadata": {
    "colab": {},
    "colab_type": "code",
    "executionInfo": {
     "elapsed": 710,
     "status": "ok",
     "timestamp": 1597973608016,
     "user": {
      "displayName": "ANDRE OMAR CHAVEZ PANDURO",
      "photoUrl": "https://lh3.googleusercontent.com/a-/AOh14GhhoQ1kbFXrI1LHS5aCbnzbQoTSVMlrpsL1-iED=s64",
      "userId": "14331399592622880507"
     },
     "user_tz": 300
    },
    "id": "s89VOPly27Eg"
   },
   "outputs": [],
   "source": [
    "### Evaluar la **RNA**\n",
    "from keras.wrappers.scikit_learn import KerasClassifier\n",
    "from sklearn.model_selection import cross_val_score"
   ]
  },
  {
   "cell_type": "code",
   "execution_count": null,
   "metadata": {
    "colab": {},
    "colab_type": "code",
    "id": "BB9Fnk7I27TD"
   },
   "outputs": [],
   "source": [
    "# Construimos un clasificador"
   ]
  },
  {
   "cell_type": "code",
   "execution_count": null,
   "metadata": {
    "colab": {},
    "colab_type": "code",
    "executionInfo": {
     "elapsed": 712,
     "status": "ok",
     "timestamp": 1597973623760,
     "user": {
      "displayName": "ANDRE OMAR CHAVEZ PANDURO",
      "photoUrl": "https://lh3.googleusercontent.com/a-/AOh14GhhoQ1kbFXrI1LHS5aCbnzbQoTSVMlrpsL1-iED=s64",
      "userId": "14331399592622880507"
     },
     "user_tz": 300
    },
    "id": "GC64t8-d27p-"
   },
   "outputs": [],
   "source": [
    "def build_classifier():\n",
    "  classifier = Sequential()\n",
    "  classifier.add(Dense(units = 6, kernel_initializer = \"uniform\", activation = \"relu\", input_dim = 10))\n",
    "  classifier.add(Dense(units = 6, kernel_initializer = \"uniform\", activation = \"relu\"))\n",
    "  classifier.add(Dense(units = 1, kernel_initializer = \"uniform\", activation = \"sigmoid\"))\n",
    "  classifier.compile(optimizer = \"adam\", loss = \"binary_crossentropy\", metrics = [\"accuracy\"])\n",
    "  return classifier"
   ]
  },
  {
   "cell_type": "code",
   "execution_count": null,
   "metadata": {
    "colab": {
     "base_uri": "https://localhost:8080/",
     "height": 54
    },
    "colab_type": "code",
    "executionInfo": {
     "elapsed": 13882,
     "status": "ok",
     "timestamp": 1597973658208,
     "user": {
      "displayName": "ANDRE OMAR CHAVEZ PANDURO",
      "photoUrl": "https://lh3.googleusercontent.com/a-/AOh14GhhoQ1kbFXrI1LHS5aCbnzbQoTSVMlrpsL1-iED=s64",
      "userId": "14331399592622880507"
     },
     "user_tz": 300
    },
    "id": "bzlCED1b272p",
    "outputId": "1c6af830-1cfa-462e-87cf-475d24987b0b"
   },
   "outputs": [],
   "source": [
    "classifier = KerasClassifier(build_fn = build_classifier, batch_size = 10, nb_epoch = 100)\n",
    "accuracies = cross_val_score(estimator=classifier, X = X_train, y = y_train, cv = 10, n_jobs=-1, verbose = 1)"
   ]
  },
  {
   "cell_type": "code",
   "execution_count": null,
   "metadata": {
    "colab": {},
    "colab_type": "code",
    "executionInfo": {
     "elapsed": 542,
     "status": "ok",
     "timestamp": 1597973662136,
     "user": {
      "displayName": "ANDRE OMAR CHAVEZ PANDURO",
      "photoUrl": "https://lh3.googleusercontent.com/a-/AOh14GhhoQ1kbFXrI1LHS5aCbnzbQoTSVMlrpsL1-iED=s64",
      "userId": "14331399592622880507"
     },
     "user_tz": 300
    },
    "id": "wuLxiwjD28Q2"
   },
   "outputs": [],
   "source": [
    "# Corroboramos si estamos ante un problema de Bias o Variance\n",
    "mean = accuracies.mean()\n",
    "variance = accuracies.std()"
   ]
  },
  {
   "cell_type": "code",
   "execution_count": null,
   "metadata": {
    "colab": {
     "base_uri": "https://localhost:8080/",
     "height": 54
    },
    "colab_type": "code",
    "executionInfo": {
     "elapsed": 542,
     "status": "ok",
     "timestamp": 1597973665153,
     "user": {
      "displayName": "ANDRE OMAR CHAVEZ PANDURO",
      "photoUrl": "https://lh3.googleusercontent.com/a-/AOh14GhhoQ1kbFXrI1LHS5aCbnzbQoTSVMlrpsL1-iED=s64",
      "userId": "14331399592622880507"
     },
     "user_tz": 300
    },
    "id": "0x2_gbHg28e5",
    "outputId": "ae0abd22-b439-43f1-90a4-f1af3a54b859"
   },
   "outputs": [],
   "source": [
    "# Validamos la media y desviacion estandar del accuracy!\n",
    "print(mean)\n",
    "print(variance)"
   ]
  },
  {
   "cell_type": "code",
   "execution_count": null,
   "metadata": {
    "colab": {},
    "colab_type": "code",
    "id": "6PHtPnWy3kU9"
   },
   "outputs": [],
   "source": [
    "### Mejorar la RNA\n",
    "#### Regularización de Dropout para evitar el *overfitting*"
   ]
  },
  {
   "cell_type": "code",
   "execution_count": null,
   "metadata": {
    "colab": {},
    "colab_type": "code",
    "executionInfo": {
     "elapsed": 512,
     "status": "ok",
     "timestamp": 1597973825793,
     "user": {
      "displayName": "ANDRE OMAR CHAVEZ PANDURO",
      "photoUrl": "https://lh3.googleusercontent.com/a-/AOh14GhhoQ1kbFXrI1LHS5aCbnzbQoTSVMlrpsL1-iED=s64",
      "userId": "14331399592622880507"
     },
     "user_tz": 300
    },
    "id": "1rmbAwEs3okk"
   },
   "outputs": [],
   "source": [
    "### Ajustar la *RNA*\n",
    "from sklearn.model_selection import GridSearchCV,RandomizedSearchCV # sklearn.grid_search"
   ]
  },
  {
   "cell_type": "code",
   "execution_count": null,
   "metadata": {
    "colab": {},
    "colab_type": "code",
    "executionInfo": {
     "elapsed": 525,
     "status": "ok",
     "timestamp": 1597973860831,
     "user": {
      "displayName": "ANDRE OMAR CHAVEZ PANDURO",
      "photoUrl": "https://lh3.googleusercontent.com/a-/AOh14GhhoQ1kbFXrI1LHS5aCbnzbQoTSVMlrpsL1-iED=s64",
      "userId": "14331399592622880507"
     },
     "user_tz": 300
    },
    "id": "HqeT8rPA3oum"
   },
   "outputs": [],
   "source": [
    "def build_classifier(optimizer):\n",
    "  classifier = Sequential()\n",
    "  classifier.add(Dense(units = 16, kernel_initializer = \"uniform\",  activation = \"relu\", input_dim = 10))\n",
    "  classifier.add(Dense(units = 16, kernel_initializer = \"uniform\",  activation = \"relu\"))\n",
    "  classifier.add(Dense(units = 1, kernel_initializer = \"uniform\",  activation = \"sigmoid\"))\n",
    "  classifier.compile(optimizer = optimizer, loss = \"binary_crossentropy\", metrics = [\"accuracy\"])\n",
    "  return classifier"
   ]
  },
  {
   "cell_type": "code",
   "execution_count": null,
   "metadata": {
    "colab": {},
    "colab_type": "code",
    "executionInfo": {
     "elapsed": 548,
     "status": "ok",
     "timestamp": 1597973863664,
     "user": {
      "displayName": "ANDRE OMAR CHAVEZ PANDURO",
      "photoUrl": "https://lh3.googleusercontent.com/a-/AOh14GhhoQ1kbFXrI1LHS5aCbnzbQoTSVMlrpsL1-iED=s64",
      "userId": "14331399592622880507"
     },
     "user_tz": 300
    },
    "id": "VjhPMYiF3o5C"
   },
   "outputs": [],
   "source": [
    "# Construimos el clasificador\n",
    "classifier = KerasClassifier(build_fn = build_classifier)"
   ]
  },
  {
   "cell_type": "code",
   "execution_count": null,
   "metadata": {
    "colab": {},
    "colab_type": "code",
    "executionInfo": {
     "elapsed": 490,
     "status": "ok",
     "timestamp": 1597973865854,
     "user": {
      "displayName": "ANDRE OMAR CHAVEZ PANDURO",
      "photoUrl": "https://lh3.googleusercontent.com/a-/AOh14GhhoQ1kbFXrI1LHS5aCbnzbQoTSVMlrpsL1-iED=s64",
      "userId": "14331399592622880507"
     },
     "user_tz": 300
    },
    "id": "-IZJKGEK3pDs"
   },
   "outputs": [],
   "source": [
    "# Hacemos el grid con los parámetros que queremos optimizar\n",
    "parameters = {\n",
    "    'batch_size' : [25,32],\n",
    "    'nb_epoch' : [100, 250 , 500], \n",
    "    'optimizer' : ['adam', 'rmsprop']\n",
    "}"
   ]
  },
  {
   "cell_type": "code",
   "execution_count": null,
   "metadata": {
    "colab": {},
    "colab_type": "code",
    "executionInfo": {
     "elapsed": 548,
     "status": "ok",
     "timestamp": 1597973868165,
     "user": {
      "displayName": "ANDRE OMAR CHAVEZ PANDURO",
      "photoUrl": "https://lh3.googleusercontent.com/a-/AOh14GhhoQ1kbFXrI1LHS5aCbnzbQoTSVMlrpsL1-iED=s64",
      "userId": "14331399592622880507"
     },
     "user_tz": 300
    },
    "id": "WRosDjlcru7B"
   },
   "outputs": [],
   "source": [
    "# Ajustamos el Random GridSearch\n",
    "grid_search = RandomizedSearchCV(classifier,\n",
    "                                 parameters,\n",
    "                                 scoring = 'accuracy', \n",
    "                                 cv = 3)"
   ]
  },
  {
   "cell_type": "code",
   "execution_count": null,
   "metadata": {
    "colab": {
     "base_uri": "https://localhost:8080/",
     "height": 655
    },
    "colab_type": "code",
    "executionInfo": {
     "elapsed": 25518,
     "status": "ok",
     "timestamp": 1597973894911,
     "user": {
      "displayName": "ANDRE OMAR CHAVEZ PANDURO",
      "photoUrl": "https://lh3.googleusercontent.com/a-/AOh14GhhoQ1kbFXrI1LHS5aCbnzbQoTSVMlrpsL1-iED=s64",
      "userId": "14331399592622880507"
     },
     "user_tz": 300
    },
    "id": "dxKJyLE6qL1W",
    "outputId": "3df234d1-c2bd-4d86-8ff8-2ccad73fc274"
   },
   "outputs": [],
   "source": [
    "grid_search = grid_search.fit(X_train,y_train)\n"
   ]
  },
  {
   "cell_type": "code",
   "execution_count": null,
   "metadata": {
    "colab": {},
    "colab_type": "code",
    "id": "ui7EgM_s3pSQ"
   },
   "outputs": [],
   "source": [
    "# Ajustamos el GridSearch Exhaustivo\n",
    "grid_search = GridSearchCV(estimator = classifier, \n",
    "                           param_grid = parameters, \n",
    "                           scoring = 'accuracy', \n",
    "                           cv = 3)\n",
    "grid_search = grid_search.fit(X_train, y_train)"
   ]
  },
  {
   "cell_type": "code",
   "execution_count": null,
   "metadata": {
    "colab": {},
    "colab_type": "code",
    "executionInfo": {
     "elapsed": 457,
     "status": "ok",
     "timestamp": 1597973905728,
     "user": {
      "displayName": "ANDRE OMAR CHAVEZ PANDURO",
      "photoUrl": "https://lh3.googleusercontent.com/a-/AOh14GhhoQ1kbFXrI1LHS5aCbnzbQoTSVMlrpsL1-iED=s64",
      "userId": "14331399592622880507"
     },
     "user_tz": 300
    },
    "id": "voTFrHSD7G8q"
   },
   "outputs": [],
   "source": [
    "# Revisamos los mejores parametros!\n",
    "best_parameters = grid_search.best_params_\n",
    "best_accuracy = grid_search.best_score_"
   ]
  },
  {
   "cell_type": "code",
   "execution_count": null,
   "metadata": {
    "colab": {
     "base_uri": "https://localhost:8080/",
     "height": 54
    },
    "colab_type": "code",
    "executionInfo": {
     "elapsed": 507,
     "status": "ok",
     "timestamp": 1597973908320,
     "user": {
      "displayName": "ANDRE OMAR CHAVEZ PANDURO",
      "photoUrl": "https://lh3.googleusercontent.com/a-/AOh14GhhoQ1kbFXrI1LHS5aCbnzbQoTSVMlrpsL1-iED=s64",
      "userId": "14331399592622880507"
     },
     "user_tz": 300
    },
    "id": "TIflcDxv80Bk",
    "outputId": "b58af851-e970-414c-8f73-20270d9ae058"
   },
   "outputs": [],
   "source": [
    "print(best_parameters)\n",
    "print(best_accuracy)"
   ]
  }
 ],
 "metadata": {
  "colab": {
   "authorship_tag": "ABX9TyPpH6nyGuppnIryeImXkcv/",
   "collapsed_sections": [],
   "name": "RedesNeuronalesArtificiales.ipynb",
   "provenance": []
  },
  "kernelspec": {
   "display_name": "Python 3",
   "language": "python",
   "name": "python3"
  },
  "language_info": {
   "codemirror_mode": {
    "name": "ipython",
    "version": 3
   },
   "file_extension": ".py",
   "mimetype": "text/x-python",
   "name": "python",
   "nbconvert_exporter": "python",
   "pygments_lexer": "ipython3",
   "version": "3.7.6"
  }
 },
 "nbformat": 4,
 "nbformat_minor": 1
}
